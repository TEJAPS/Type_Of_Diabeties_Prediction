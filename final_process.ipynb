{
 "cells": [
  {
   "cell_type": "code",
   "execution_count": 71,
   "metadata": {},
   "outputs": [],
   "source": [
    "import os\n",
    "import numpy as np\n",
    "from sklearn.model_selection import train_test_split\n",
    "from sklearn.cross_validation import cross_val_score, cross_val_predict\n",
    "from sklearn.linear_model import LogisticRegression\n",
    "from sklearn import metrics\n",
    "from sklearn.svm import SVC\n",
    "from sklearn import metrics\n",
    "from sklearn.neighbors import KNeighborsClassifier\n",
    "from numpy import corrcoef\n",
    "from sklearn.naive_bayes import GaussianNB\n",
    "from sklearn.metrics import accuracy_score , precision_score,recall_score,confusion_matrix,precision_recall_curve\n",
    "from sklearn.preprocessing import RobustScaler\n",
    "from sklearn.tree import DecisionTreeClassifier\n",
    "import pickle\n",
    "import matplotlib.pyplot as plt"
   ]
  },
  {
   "cell_type": "code",
   "execution_count": 2,
   "metadata": {},
   "outputs": [
    {
     "name": "stdout",
     "output_type": "stream",
     "text": [
      "C:\\Users\\tejap\n",
      "H:\\DRDO\n"
     ]
    },
    {
     "data": {
      "text/plain": [
       "(69209, 27)"
      ]
     },
     "execution_count": 2,
     "metadata": {},
     "output_type": "execute_result"
    }
   ],
   "source": [
    "#moving to workiing directories\n",
    "print(os.getcwd());\n",
    "os.chdir(\"H:\\DRDO\");\n",
    "print(os.getcwd());\n",
    "from pandas import read_csv\n",
    "import pandas as pd\n",
    "file = 'Patient Record.xlsx'\n",
    "dataset = pd.read_excel(file)\n",
    "original = dataset\n",
    "\n",
    "dataset.head()\n",
    "dataset.shape"
   ]
  },
  {
   "cell_type": "code",
   "execution_count": 3,
   "metadata": {},
   "outputs": [
    {
     "name": "stdout",
     "output_type": "stream",
     "text": [
      "attributes are  ['ADate', 'pid', 'Age', 'Gender', 'WEIGHT', 'HEIGHT', 'WAIST', 'HIP', 'BP', 'Pulse', 'BMI', 'FBS', 'PPBS', 'HBa1c', 'TSH', 'T3', 'T4', 'TGL', 'T.Chol', 'HDL', 'LDL', 'B.Urea', 'S.Creat', 'Uric Acid', 'Diabetes', 'hypertension', 'thyroid']\n"
     ]
    }
   ],
   "source": [
    "attributes= list(dataset)\n",
    "print(\"attributes are \",attributes)"
   ]
  },
  {
   "cell_type": "code",
   "execution_count": 4,
   "metadata": {},
   "outputs": [],
   "source": [
    "#removing the non-required output variables\n",
    "dataset = dataset.drop(['hypertension','thyroid'],axis=1)\n",
    "original = original.drop(['hypertension','thyroid'],axis=1)\n",
    "total = dataset.shape[0]"
   ]
  },
  {
   "cell_type": "code",
   "execution_count": 5,
   "metadata": {},
   "outputs": [
    {
     "data": {
      "text/plain": [
       "26217"
      ]
     },
     "execution_count": 5,
     "metadata": {},
     "output_type": "execute_result"
    }
   ],
   "source": [
    "#removing the tuples which are not having output variable in diabetes coloumn\n",
    "dataset = dataset[dataset.Diabetes!= ' ']\n",
    "original = original[original.Diabetes!=' ']\n",
    "dataset.shape[0]"
   ]
  },
  {
   "cell_type": "code",
   "execution_count": 6,
   "metadata": {},
   "outputs": [
    {
     "data": {
      "text/plain": [
       "25"
      ]
     },
     "execution_count": 6,
     "metadata": {},
     "output_type": "execute_result"
    }
   ],
   "source": [
    "len(list(dataset))"
   ]
  },
  {
   "cell_type": "code",
   "execution_count": 7,
   "metadata": {},
   "outputs": [
    {
     "data": {
      "text/plain": [
       "['ADate',\n",
       " 'pid',\n",
       " 'Age',\n",
       " 'Gender',\n",
       " 'WEIGHT',\n",
       " 'HEIGHT',\n",
       " 'WAIST',\n",
       " 'HIP',\n",
       " 'BP',\n",
       " 'Pulse',\n",
       " 'BMI',\n",
       " 'FBS',\n",
       " 'PPBS',\n",
       " 'HBa1c',\n",
       " 'TSH',\n",
       " 'T3',\n",
       " 'T4',\n",
       " 'TGL',\n",
       " 'T.Chol',\n",
       " 'HDL',\n",
       " 'LDL',\n",
       " 'B.Urea',\n",
       " 'S.Creat',\n",
       " 'Uric Acid']"
      ]
     },
     "execution_count": 7,
     "metadata": {},
     "output_type": "execute_result"
    }
   ],
   "source": [
    "list(dataset.iloc[:,:24])"
   ]
  },
  {
   "cell_type": "code",
   "execution_count": 8,
   "metadata": {},
   "outputs": [],
   "source": [
    "# y.unique()\n",
    "#removing the non required data that is admission date and patient id\n",
    "dataset = dataset.drop(columns = ['ADate','pid'])"
   ]
  },
  {
   "cell_type": "code",
   "execution_count": 9,
   "metadata": {},
   "outputs": [
    {
     "name": "stderr",
     "output_type": "stream",
     "text": [
      "H:\\installed_in_edu\\anaconda\\lib\\site-packages\\ipykernel_launcher.py:1: FutureWarning: convert_objects is deprecated.  To re-infer data dtypes for object columns, use Series.infer_objects()\n",
      "For all other conversions use the data-type specific converters pd.to_datetime, pd.to_timedelta and pd.to_numeric.\n",
      "  \"\"\"Entry point for launching an IPython kernel.\n",
      "H:\\installed_in_edu\\anaconda\\lib\\site-packages\\ipykernel_launcher.py:4: FutureWarning: convert_objects is deprecated.  To re-infer data dtypes for object columns, use Series.infer_objects()\n",
      "For all other conversions use the data-type specific converters pd.to_datetime, pd.to_timedelta and pd.to_numeric.\n",
      "  after removing the cwd from sys.path.\n"
     ]
    }
   ],
   "source": [
    "#conversion of height to numeric data type and dealing with NA's\n",
    "dataset.HEIGHT = dataset.HEIGHT.convert_objects(convert_numeric=True)\n",
    "dataset.HEIGHT = dataset.HEIGHT.fillna(150)\n",
    "\n",
    "original.HEIGHT = original.HEIGHT.convert_objects(convert_numeric=True)\n",
    "original.HEIGHT = original.HEIGHT.fillna(150)"
   ]
  },
  {
   "cell_type": "code",
   "execution_count": 10,
   "metadata": {},
   "outputs": [
    {
     "data": {
      "text/plain": [
       "array(['Male', ' ', 'Female'], dtype=object)"
      ]
     },
     "execution_count": 10,
     "metadata": {},
     "output_type": "execute_result"
    }
   ],
   "source": [
    "# dataset['FBS'] = dataset['FBS'].convert_objects(convert_numeric=True)\n",
    "# dataset['PPBS'] = dataset['PPBS'].convert_objects(convert_numeric=True)\n",
    "# dataset['HBa1c'] = dataset['HBa1c'].convert_objects(convert_numeric=True)\n",
    "dataset.Gender.unique()"
   ]
  },
  {
   "cell_type": "code",
   "execution_count": 11,
   "metadata": {},
   "outputs": [
    {
     "name": "stderr",
     "output_type": "stream",
     "text": [
      "H:\\installed_in_edu\\anaconda\\lib\\site-packages\\pandas\\core\\indexing.py:189: SettingWithCopyWarning: \n",
      "A value is trying to be set on a copy of a slice from a DataFrame\n",
      "\n",
      "See the caveats in the documentation: http://pandas.pydata.org/pandas-docs/stable/indexing.html#indexing-view-versus-copy\n",
      "  self._setitem_with_indexer(indexer, value)\n",
      "H:\\installed_in_edu\\anaconda\\lib\\site-packages\\pandas\\core\\generic.py:4401: SettingWithCopyWarning: \n",
      "A value is trying to be set on a copy of a slice from a DataFrame\n",
      "\n",
      "See the caveats in the documentation: http://pandas.pydata.org/pandas-docs/stable/indexing.html#indexing-view-versus-copy\n",
      "  self[name] = value\n"
     ]
    },
    {
     "name": "stdout",
     "output_type": "stream",
     "text": [
      "0\n",
      "10000\n",
      "20000\n"
     ]
    },
    {
     "name": "stderr",
     "output_type": "stream",
     "text": [
      "H:\\installed_in_edu\\anaconda\\lib\\site-packages\\ipykernel_launcher.py:18: FutureWarning: convert_objects is deprecated.  To re-infer data dtypes for object columns, use Series.infer_objects()\n",
      "For all other conversions use the data-type specific converters pd.to_datetime, pd.to_timedelta and pd.to_numeric.\n"
     ]
    }
   ],
   "source": [
    "#filling of nan and empty values of BMI based upon corresponding gender\n",
    "\n",
    "till = dataset.shape[0]\n",
    "temp = 70/(150*150)\n",
    "for i in range(till):\n",
    "    if dataset.BMI.iloc[i] == ' ' or np.isnan(dataset.BMI.iloc[i]):\n",
    "        dataset.BMI.iloc[i] = temp\n",
    "        \n",
    "cnt=0\n",
    "for i in range(till):\n",
    "    if dataset['BMI'].iloc[i]==0.003111111111111111:\n",
    "        if(dataset['Gender'].iloc[i] == 'Male'):\n",
    "            dataset.iloc[i].BMI = 26.6\n",
    "        else:\n",
    "            dataset.iloc[i].BMI = 26.5\n",
    "    if(i%10000 == 0 ):\n",
    "        print(i)\n"
   ]
  },
  {
   "cell_type": "code",
   "execution_count": 12,
   "metadata": {},
   "outputs": [
    {
     "name": "stderr",
     "output_type": "stream",
     "text": [
      "H:\\installed_in_edu\\anaconda\\lib\\site-packages\\pandas\\core\\indexing.py:189: SettingWithCopyWarning: \n",
      "A value is trying to be set on a copy of a slice from a DataFrame\n",
      "\n",
      "See the caveats in the documentation: http://pandas.pydata.org/pandas-docs/stable/indexing.html#indexing-view-versus-copy\n",
      "  self._setitem_with_indexer(indexer, value)\n"
     ]
    },
    {
     "name": "stdout",
     "output_type": "stream",
     "text": [
      "0\n",
      "10000\n",
      "20000\n"
     ]
    }
   ],
   "source": [
    "#Uric acid is preprocessed by converting into numeric type and filling NA values based on gender \n",
    "dataset['Uric Acid'] = dataset['Uric Acid'].convert_objects(convert_numeric=True)\n",
    "\n",
    "total = dataset.shape[0]\n",
    "for i in range(total):\n",
    "    if np.isnan(dataset['Uric Acid'].iloc[i]):\n",
    "        if(dataset['Gender'].iloc[i] == 'Male'):\n",
    "            dataset['Uric Acid'].iloc[i] = 5.2\n",
    "        else:\n",
    "            dataset['Uric Acid'].iloc[i] = 4.2\n",
    "    if(i%10000 == 0 ):\n",
    "        print(i)"
   ]
  },
  {
   "cell_type": "code",
   "execution_count": 13,
   "metadata": {},
   "outputs": [
    {
     "name": "stderr",
     "output_type": "stream",
     "text": [
      "H:\\installed_in_edu\\anaconda\\lib\\site-packages\\ipykernel_launcher.py:2: FutureWarning: convert_objects is deprecated.  To re-infer data dtypes for object columns, use Series.infer_objects()\n",
      "For all other conversions use the data-type specific converters pd.to_datetime, pd.to_timedelta and pd.to_numeric.\n",
      "  \n",
      "H:\\installed_in_edu\\anaconda\\lib\\site-packages\\pandas\\core\\indexing.py:189: SettingWithCopyWarning: \n",
      "A value is trying to be set on a copy of a slice from a DataFrame\n",
      "\n",
      "See the caveats in the documentation: http://pandas.pydata.org/pandas-docs/stable/indexing.html#indexing-view-versus-copy\n",
      "  self._setitem_with_indexer(indexer, value)\n"
     ]
    },
    {
     "name": "stdout",
     "output_type": "stream",
     "text": [
      "0\n",
      "2000\n",
      "4000\n",
      "6000\n",
      "8000\n",
      "10000\n",
      "12000\n",
      "14000\n",
      "16000\n",
      "18000\n",
      "20000\n",
      "22000\n",
      "24000\n",
      "26000\n"
     ]
    }
   ],
   "source": [
    "#preprocessing of S.Creat\n",
    "dataset['S.Creat'] = dataset['S.Creat'].convert_objects(convert_numeric=True)\n",
    "cnt=0\n",
    "for i in range(total):\n",
    "    if np.isnan(dataset['S.Creat'].iloc[i]):\n",
    "        if(dataset['Gender'].iloc[i] == 'Male'):\n",
    "            dataset['S.Creat'].iloc[i] = 1.1\n",
    "        else:\n",
    "            dataset['S.Creat'].iloc[i] = 0.9\n",
    "    if(i%2000 == 0 ):\n",
    "        print(i)\n"
   ]
  },
  {
   "cell_type": "code",
   "execution_count": 14,
   "metadata": {},
   "outputs": [
    {
     "name": "stderr",
     "output_type": "stream",
     "text": [
      "H:\\installed_in_edu\\anaconda\\lib\\site-packages\\pandas\\core\\indexing.py:189: SettingWithCopyWarning: \n",
      "A value is trying to be set on a copy of a slice from a DataFrame\n",
      "\n",
      "See the caveats in the documentation: http://pandas.pydata.org/pandas-docs/stable/indexing.html#indexing-view-versus-copy\n",
      "  self._setitem_with_indexer(indexer, value)\n"
     ]
    }
   ],
   "source": [
    "total = dataset.shape[0]\n",
    "for i in range(total):\n",
    "    if dataset.Gender.iloc[i] == ' ':\n",
    "        dataset.Gender.iloc[i] = 'Male'"
   ]
  },
  {
   "cell_type": "code",
   "execution_count": 15,
   "metadata": {},
   "outputs": [
    {
     "data": {
      "text/plain": [
       "array(['Male', 'Female'], dtype=object)"
      ]
     },
     "execution_count": 15,
     "metadata": {},
     "output_type": "execute_result"
    }
   ],
   "source": [
    "dataset.Gender.unique()"
   ]
  },
  {
   "cell_type": "code",
   "execution_count": 16,
   "metadata": {},
   "outputs": [],
   "source": [
    "# dataset['S.Creat'].unique()"
   ]
  },
  {
   "cell_type": "code",
   "execution_count": 17,
   "metadata": {},
   "outputs": [
    {
     "data": {
      "text/plain": [
       "Age          0\n",
       "Gender       0\n",
       "WEIGHT       0\n",
       "HEIGHT       0\n",
       "WAIST        0\n",
       "HIP          0\n",
       "BP           0\n",
       "Pulse        0\n",
       "BMI          0\n",
       "FBS          0\n",
       "PPBS         0\n",
       "HBa1c        0\n",
       "TSH          0\n",
       "T3           0\n",
       "T4           0\n",
       "TGL          0\n",
       "T.Chol       0\n",
       "HDL          0\n",
       "LDL          0\n",
       "B.Urea       0\n",
       "S.Creat      0\n",
       "Uric Acid    0\n",
       "Diabetes     0\n",
       "dtype: int64"
      ]
     },
     "execution_count": 17,
     "metadata": {},
     "output_type": "execute_result"
    }
   ],
   "source": [
    "dataset.isnull().sum()"
   ]
  },
  {
   "cell_type": "code",
   "execution_count": 18,
   "metadata": {},
   "outputs": [],
   "source": [
    "# dataset.Age.unique() remove comment"
   ]
  },
  {
   "cell_type": "code",
   "execution_count": 19,
   "metadata": {},
   "outputs": [
    {
     "name": "stderr",
     "output_type": "stream",
     "text": [
      "H:\\installed_in_edu\\anaconda\\lib\\site-packages\\ipykernel_launcher.py:1: FutureWarning: convert_objects is deprecated.  To re-infer data dtypes for object columns, use Series.infer_objects()\n",
      "For all other conversions use the data-type specific converters pd.to_datetime, pd.to_timedelta and pd.to_numeric.\n",
      "  \"\"\"Entry point for launching an IPython kernel.\n"
     ]
    }
   ],
   "source": [
    "dataset['Age'] = dataset['Age'].convert_objects(convert_numeric=True)\n",
    "dataset.Age = dataset.Age.fillna('50')"
   ]
  },
  {
   "cell_type": "code",
   "execution_count": 21,
   "metadata": {},
   "outputs": [
    {
     "name": "stderr",
     "output_type": "stream",
     "text": [
      "H:\\installed_in_edu\\anaconda\\lib\\site-packages\\ipykernel_launcher.py:1: FutureWarning: convert_objects is deprecated.  To re-infer data dtypes for object columns, use Series.infer_objects()\n",
      "For all other conversions use the data-type specific converters pd.to_datetime, pd.to_timedelta and pd.to_numeric.\n",
      "  \"\"\"Entry point for launching an IPython kernel.\n"
     ]
    }
   ],
   "source": [
    "dataset['WEIGHT'] = dataset['WEIGHT'].convert_objects(convert_numeric=True)\n",
    "dataset.WEIGHT = dataset.WEIGHT.fillna(70)"
   ]
  },
  {
   "cell_type": "code",
   "execution_count": 22,
   "metadata": {},
   "outputs": [
    {
     "name": "stderr",
     "output_type": "stream",
     "text": [
      "H:\\installed_in_edu\\anaconda\\lib\\site-packages\\ipykernel_launcher.py:1: FutureWarning: convert_objects is deprecated.  To re-infer data dtypes for object columns, use Series.infer_objects()\n",
      "For all other conversions use the data-type specific converters pd.to_datetime, pd.to_timedelta and pd.to_numeric.\n",
      "  \"\"\"Entry point for launching an IPython kernel.\n",
      "H:\\installed_in_edu\\anaconda\\lib\\site-packages\\ipykernel_launcher.py:2: FutureWarning: convert_objects is deprecated.  To re-infer data dtypes for object columns, use Series.infer_objects()\n",
      "For all other conversions use the data-type specific converters pd.to_datetime, pd.to_timedelta and pd.to_numeric.\n",
      "  \n",
      "H:\\installed_in_edu\\anaconda\\lib\\site-packages\\ipykernel_launcher.py:3: FutureWarning: convert_objects is deprecated.  To re-infer data dtypes for object columns, use Series.infer_objects()\n",
      "For all other conversions use the data-type specific converters pd.to_datetime, pd.to_timedelta and pd.to_numeric.\n",
      "  This is separate from the ipykernel package so we can avoid doing imports until\n"
     ]
    }
   ],
   "source": [
    "# datatype conversions\n",
    "dataset.HBa1c = dataset.HBa1c.convert_objects(convert_numeric=True)\n",
    "dataset.FBS = dataset.FBS.convert_objects(convert_numeric=True)\n",
    "dataset.PPBS = dataset.PPBS.convert_objects(convert_numeric=True)\n"
   ]
  },
  {
   "cell_type": "code",
   "execution_count": 23,
   "metadata": {},
   "outputs": [],
   "source": [
    "#finding average of mtfbs , mtppbs , mthba1c\n",
    "mtfbs = 0 ; mtppbs = 0; mthba1c= 0;\n",
    "sfbs = 0;sppbs=0;shba1c=0\n",
    "total = dataset.shape[0]\n",
    "for i in range(total):\n",
    "    if np.isnan(dataset.iloc[i].FBS):\n",
    "        mtfbs = mtfbs+1\n",
    "    else:\n",
    "        sfbs = sfbs +   dataset.iloc[i].FBS  \n",
    "    if np.isnan(dataset.iloc[i].PPBS):\n",
    "        mtppbs = mtppbs+1\n",
    "    else:\n",
    "        sppbs = sppbs + dataset.iloc[i].PPBS\n",
    "    if np.isnan(dataset.iloc[i].HBa1c):\n",
    "        mthba1c = mthba1c+1\n",
    "    else:\n",
    "        shba1c = shba1c + dataset.iloc[i].HBa1c"
   ]
  },
  {
   "cell_type": "code",
   "execution_count": 24,
   "metadata": {},
   "outputs": [
    {
     "name": "stdout",
     "output_type": "stream",
     "text": [
      "144.0700739154463\n",
      "220.38403467655147\n",
      "9.087264457176696\n"
     ]
    }
   ],
   "source": [
    "afbs = sfbs / (total - mtfbs)\n",
    "appbs = sppbs / (total - mtppbs)\n",
    "ahba1c = shba1c / (total - mthba1c)\n",
    "\n",
    "print(afbs)\n",
    "print(appbs)\n",
    "print(ahba1c)"
   ]
  },
  {
   "cell_type": "code",
   "execution_count": 25,
   "metadata": {},
   "outputs": [],
   "source": [
    "#replacing all nan values with avg for fbs , ppbs, ,hba1c\n",
    "dataset.FBS = dataset.FBS.fillna(afbs)\n",
    "dataset.PPBS = dataset.PPBS.fillna(appbs)\n",
    "dataset.HBa1c = dataset.HBa1c.fillna(ahba1c)"
   ]
  },
  {
   "cell_type": "code",
   "execution_count": 26,
   "metadata": {},
   "outputs": [
    {
     "name": "stderr",
     "output_type": "stream",
     "text": [
      "H:\\installed_in_edu\\anaconda\\lib\\site-packages\\ipykernel_launcher.py:1: FutureWarning: convert_objects is deprecated.  To re-infer data dtypes for object columns, use Series.infer_objects()\n",
      "For all other conversions use the data-type specific converters pd.to_datetime, pd.to_timedelta and pd.to_numeric.\n",
      "  \"\"\"Entry point for launching an IPython kernel.\n"
     ]
    }
   ],
   "source": [
    "#preprocessing of BMI\n",
    "dataset.BMI = dataset.BMI.convert_objects(convert_numeric=True)\n",
    "dataset.BMI = dataset.BMI.fillna(21)"
   ]
  },
  {
   "cell_type": "code",
   "execution_count": 27,
   "metadata": {},
   "outputs": [
    {
     "name": "stdout",
     "output_type": "stream",
     "text": [
      "['Age', 'Gender', 'WEIGHT', 'HEIGHT', 'WAIST', 'HIP', 'BP', 'Pulse', 'BMI', 'FBS', 'PPBS', 'HBa1c', 'TSH', 'T3', 'T4', 'TGL', 'T.Chol', 'HDL', 'LDL', 'B.Urea', 'S.Creat', 'Uric Acid', 'Diabetes']\n"
     ]
    }
   ],
   "source": [
    "print(list(dataset))"
   ]
  },
  {
   "cell_type": "code",
   "execution_count": 28,
   "metadata": {},
   "outputs": [
    {
     "data": {
      "text/plain": [
       "array([' ', 0, 89.3, 87.3, 75.1, 68.4, 48.5, 162, 165, 146], dtype=object)"
      ]
     },
     "execution_count": 28,
     "metadata": {},
     "output_type": "execute_result"
    }
   ],
   "source": [
    "dataset['WAIST'].unique()"
   ]
  },
  {
   "cell_type": "code",
   "execution_count": 29,
   "metadata": {},
   "outputs": [
    {
     "name": "stderr",
     "output_type": "stream",
     "text": [
      "H:\\installed_in_edu\\anaconda\\lib\\site-packages\\ipykernel_launcher.py:2: FutureWarning: convert_objects is deprecated.  To re-infer data dtypes for object columns, use Series.infer_objects()\n",
      "For all other conversions use the data-type specific converters pd.to_datetime, pd.to_timedelta and pd.to_numeric.\n",
      "  \n"
     ]
    },
    {
     "name": "stdout",
     "output_type": "stream",
     "text": [
      "841.6\n",
      "8\n",
      "105.2\n"
     ]
    }
   ],
   "source": [
    "#waist preprocessing\n",
    "dataset.WAIST = dataset.WAIST.convert_objects(convert_numeric=True)\n",
    "value = 0\n",
    "count = 0\n",
    "total = dataset.shape[0]\n",
    "for i in range(total):\n",
    "    if ( (np.isnan(dataset.WAIST.iloc[i]) == False) and (dataset.WAIST.iloc[i]!=0) ):\n",
    "        value = value + dataset.WAIST.iloc[i]\n",
    "        count = count + 1\n",
    "avgwaist = value/count\n",
    "print(value)\n",
    "print(count)\n",
    "print(avgwaist)"
   ]
  },
  {
   "cell_type": "code",
   "execution_count": 30,
   "metadata": {},
   "outputs": [],
   "source": [
    "dataset.WAIST = dataset.WAIST.fillna(avgwaist)"
   ]
  },
  {
   "cell_type": "code",
   "execution_count": 31,
   "metadata": {},
   "outputs": [
    {
     "data": {
      "text/plain": [
       "array([' ', 0, 113], dtype=object)"
      ]
     },
     "execution_count": 31,
     "metadata": {},
     "output_type": "execute_result"
    }
   ],
   "source": [
    "dataset['HIP'].unique()"
   ]
  },
  {
   "cell_type": "code",
   "execution_count": 32,
   "metadata": {},
   "outputs": [
    {
     "name": "stderr",
     "output_type": "stream",
     "text": [
      "H:\\installed_in_edu\\anaconda\\lib\\site-packages\\ipykernel_launcher.py:2: FutureWarning: convert_objects is deprecated.  To re-infer data dtypes for object columns, use Series.infer_objects()\n",
      "For all other conversions use the data-type specific converters pd.to_datetime, pd.to_timedelta and pd.to_numeric.\n",
      "  \n"
     ]
    },
    {
     "name": "stdout",
     "output_type": "stream",
     "text": [
      "113.0\n",
      "1\n",
      "113.0\n"
     ]
    }
   ],
   "source": [
    "#waist preprocessing\n",
    "dataset.HIP = dataset.HIP.convert_objects(convert_numeric=True)\n",
    "value = 0\n",
    "count = 0\n",
    "total = dataset.shape[0]\n",
    "for i in range(total):\n",
    "    if ( (np.isnan(dataset.HIP.iloc[i]) == False) and (dataset.HIP.iloc[i]!=0) ):\n",
    "        value = value + dataset.HIP.iloc[i]\n",
    "        count = count + 1\n",
    "avghip = value/count\n",
    "print(value)\n",
    "print(count)\n",
    "print(avghip)\n",
    "dataset.HIP = dataset.HIP.fillna(avghip)"
   ]
  },
  {
   "cell_type": "code",
   "execution_count": 33,
   "metadata": {},
   "outputs": [
    {
     "data": {
      "text/plain": [
       "array([' ', '120/80', '130/90', ..., '83/70', '153/88', '161/72'],\n",
       "      dtype=object)"
      ]
     },
     "execution_count": 33,
     "metadata": {},
     "output_type": "execute_result"
    }
   ],
   "source": [
    "dataset.BP.unique()"
   ]
  },
  {
   "cell_type": "code",
   "execution_count": 34,
   "metadata": {},
   "outputs": [
    {
     "name": "stderr",
     "output_type": "stream",
     "text": [
      "H:\\installed_in_edu\\anaconda\\lib\\site-packages\\pandas\\core\\indexing.py:189: SettingWithCopyWarning: \n",
      "A value is trying to be set on a copy of a slice from a DataFrame\n",
      "\n",
      "See the caveats in the documentation: http://pandas.pydata.org/pandas-docs/stable/indexing.html#indexing-view-versus-copy\n",
      "  self._setitem_with_indexer(indexer, value)\n",
      "H:\\installed_in_edu\\anaconda\\lib\\site-packages\\ipykernel_launcher.py:4: FutureWarning: convert_objects is deprecated.  To re-infer data dtypes for object columns, use Series.infer_objects()\n",
      "For all other conversions use the data-type specific converters pd.to_datetime, pd.to_timedelta and pd.to_numeric.\n",
      "  after removing the cwd from sys.path.\n"
     ]
    }
   ],
   "source": [
    "for i in range(total):\n",
    "    if dataset['BP'].iloc[i]== ' ':\n",
    "        dataset['BP'].iloc[i] = '130/80'\n",
    "dataset.BP = dataset.BP.convert_objects(convert_numeric=True)"
   ]
  },
  {
   "cell_type": "code",
   "execution_count": 35,
   "metadata": {},
   "outputs": [
    {
     "data": {
      "text/plain": [
       "array([' ', 90, 80, 93, 99, 107, 98, 94, 79, 76, 75, 101, 96, 91, 86, 65,\n",
       "       84, 62, 59, 70, 74, 68, 67, 92, 82, 78, 85, 89, 103, 57, 77, 106,\n",
       "       61, 53, 87, 72, 64, 73, 71, 69, 81, 117, 97, 105, 109, 100, 102,\n",
       "       113, 88, 63, 123, 112, 115, 114, 108, 95, 60, 83, 104, 111, 116,\n",
       "       66, 122, 118, 56, 50, 125, 121, 55, 120, 130, 131, 93.1, 110, 126,\n",
       "       142, 58, 66.8, 127, 86.2, 141, 75.4, 119, 128, 134, 64.3, 136,\n",
       "       72.7, 124, 144, 89.6, 54, 92.6, 73.7, 67.5, 7, 74.9, 137, 133,\n",
       "       65.1, 53.6, 69.3, 63.8, 911, 70.7, 135, 129, 70.2, 88.2, 140, 91.2,\n",
       "       145, 132, 46, 8, 10, 146, 16, 88.3, 80.9, 139, 98.3, 85.6, 86.6,\n",
       "       81.3, 100.4, 39, 138, 55.9, 47, 72.3, 6, 17, 101.3, 60.1, 73.5,\n",
       "       77.7, 131.1, 78.9, 88.7, 143, 73.3, 51, 9, 14.9, 41], dtype=object)"
      ]
     },
     "execution_count": 35,
     "metadata": {},
     "output_type": "execute_result"
    }
   ],
   "source": [
    "dataset.Pulse.unique()"
   ]
  },
  {
   "cell_type": "code",
   "execution_count": 36,
   "metadata": {},
   "outputs": [
    {
     "name": "stderr",
     "output_type": "stream",
     "text": [
      "H:\\installed_in_edu\\anaconda\\lib\\site-packages\\ipykernel_launcher.py:2: FutureWarning: convert_objects is deprecated.  To re-infer data dtypes for object columns, use Series.infer_objects()\n",
      "For all other conversions use the data-type specific converters pd.to_datetime, pd.to_timedelta and pd.to_numeric.\n",
      "  \n"
     ]
    },
    {
     "name": "stdout",
     "output_type": "stream",
     "text": [
      "18645.0\n",
      "12928\n",
      "1.4422184405940595\n"
     ]
    }
   ],
   "source": [
    "#pulse preprocessing\n",
    "dataset.Pulse = dataset.Pulse.convert_objects(convert_numeric=True)\n",
    "value = 0\n",
    "count = 0\n",
    "total = dataset.shape[0]\n",
    "for i in range(total):\n",
    "    if ( (np.isnan(dataset.Pulse.iloc[i]) == False) and (dataset.Pulse.iloc[i]!=0) ):\n",
    "        value = value + dataset.HIP.iloc[i]\n",
    "        count = count + 1\n",
    "avgpulse = value/count\n",
    "print(value)\n",
    "print(count)\n",
    "print(avgpulse)\n",
    "dataset.Pulse = dataset.Pulse.fillna(avgpulse)"
   ]
  },
  {
   "cell_type": "code",
   "execution_count": 37,
   "metadata": {},
   "outputs": [
    {
     "data": {
      "text/plain": [
       "(19406, 23)"
      ]
     },
     "execution_count": 37,
     "metadata": {},
     "output_type": "execute_result"
    }
   ],
   "source": [
    "(dataset[dataset.TSH == ' ']).shape #19406 ' '"
   ]
  },
  {
   "cell_type": "code",
   "execution_count": 38,
   "metadata": {},
   "outputs": [
    {
     "data": {
      "text/plain": [
       "array([' ', 2.76, 1.63, ..., 23.49, 6.39, 8.5], dtype=object)"
      ]
     },
     "execution_count": 38,
     "metadata": {},
     "output_type": "execute_result"
    }
   ],
   "source": [
    "dataset.TSH.unique()"
   ]
  },
  {
   "cell_type": "code",
   "execution_count": 39,
   "metadata": {},
   "outputs": [
    {
     "name": "stderr",
     "output_type": "stream",
     "text": [
      "H:\\installed_in_edu\\anaconda\\lib\\site-packages\\ipykernel_launcher.py:2: FutureWarning: convert_objects is deprecated.  To re-infer data dtypes for object columns, use Series.infer_objects()\n",
      "For all other conversions use the data-type specific converters pd.to_datetime, pd.to_timedelta and pd.to_numeric.\n",
      "  \n"
     ]
    },
    {
     "name": "stdout",
     "output_type": "stream",
     "text": [
      "41898.58499999991\n",
      "6811\n",
      "6.151605491117297\n"
     ]
    }
   ],
   "source": [
    "#tsh preprocessing\n",
    "dataset.TSH = dataset.TSH.convert_objects(convert_numeric=True)\n",
    "value = 0\n",
    "count = 0\n",
    "total = dataset.shape[0]\n",
    "for i in range(total):\n",
    "    if ( (np.isnan(dataset.TSH.iloc[i]) == False) and (dataset.TSH.iloc[i]!=0) ):\n",
    "        value = value + dataset.TSH.iloc[i]\n",
    "        count = count + 1\n",
    "avgtsh = value/count\n",
    "print(value)\n",
    "print(count)\n",
    "print(avgtsh)\n",
    "dataset.TSH = dataset.TSH.fillna(avgtsh)"
   ]
  },
  {
   "cell_type": "code",
   "execution_count": 40,
   "metadata": {},
   "outputs": [
    {
     "data": {
      "text/plain": [
       "array([' ', 120, 1.95, 1.49, 0.87, 76, 0.73, 1.26, 1.57, 6.93, 1.51, 3.42,\n",
       "       1.06, 1.22, 1.08, 1.67, 1.54, 0.77, 0.92, 1.82, 0.9, 1.01, 0.72,\n",
       "       0.98, 0.71, 1.74, 1.07, 0.93, 1.46, 1.21, 1.34, 0.95, 1.1, 0.89,\n",
       "       1.28, 0.91, 0.55, 0.63, 1.45, 1.6, 1.09, 1.71, 1.13, 1.32, 1.39,\n",
       "       1.31, 0.94, 1.16, 1.64, 1.43, 1.27, 1.53, 1.36, 1.17, 1.2, 1.62,\n",
       "       0.75, 1.4, 1.76, 1.02, 0.69, 0.88, 2.47, 1.44, 1.15, 1.48, 1.11,\n",
       "       1.37, 0.8, 0.83, 1.24, 0.65, 1.23, 0.81, 1.29, 2.16, 6.74, 0.78,\n",
       "       2.29, 2.24, 3.1, 2.43, 1.55, 1.04, 1.33, 1.19, 1.52, 0.84, 11.64,\n",
       "       1.42, 0.99, 5.35, 0.785, 1.05, 0.97, 0.68, 1.18, 0.86, 0.7, 0.76,\n",
       "       108.97, 1.25, 1, 0.82, 1.35, 1.38, 1.79, 1.84, 1.12, 120.18, 4.9,\n",
       "       1.98, 4.21, 4.84, 1.65, 2.91, 3.33, 1.89, 1.14, 0.79, 0.62, 0.41,\n",
       "       2.14, 2.11, 1.03, 1.83, 0.67, 2.05, 3.16, 0.96, 1.58, 6.51, 1.3,\n",
       "       1.41, 2.06, 118.14, 0.85, 1.69, 0.59, 0.74, 94, 2.56, 2.57, 2.66,\n",
       "       2.45, 1.66, 1.47, 72, 113.72, 0.38, 1.61, '0..69', 3.2, 117.55,\n",
       "       129.3, 0.61, 2.13, 90.23, 3.22, 111.5, 79.3, 1.56, 1.5, 100.62, 97,\n",
       "       126.52, 3.7, 0.53, 69, 148, 3, 22, 3.31, 1.9, 2.08, 7.31, 0.34,\n",
       "       1.68, 0.999, 0.29, 2.32, 1.59, 166.95, 2.12, 2, 2.72, 3.56, 2.85,\n",
       "       3.45, 4.07, 0.5, 3.08, 6.49, 81.14, 3.55, 1.93, 4.02, 3.85, 3.52,\n",
       "       2.84, 2.82, 2.99, 4.12, 3.19, 115.39, 2.19, 2.26, 56, 2.2, 3.11,\n",
       "       1.81, 0.6, 106.69, 2.34, 2.73, 6.7, 2.58, 8, 8.85, 1.75, 0.945,\n",
       "       2.42, 2.09, 0.35, 2.35, 3.64, 3.3, 2.17, 0.37, 2.88, 142, 1.63,\n",
       "       1.92, 1.77, 86, 1.86, 6.8, 3.01, 2.21, 3.06, 2.3, 2.78, 93.5, 0.47,\n",
       "       0.51, 2.55, 2.89, 84, 2.04, 2.02, 94.53, 0.66, 3.49, 2.25, 3.92,\n",
       "       2.69, 3.07, 3.04, 2.41, 3.74, 3.26, 4.45, 2.7, 4.51, 3.9, 3.46,\n",
       "       5.08, 130, 2.4, 4.06, 6.19, 0.27, 0.13, 4.34, 5.31, 5.4, 0.52,\n",
       "       0.57, 2.48, 2.63, 3.54, 3.71, 5.75, 100, 0.541, 0.64, 21.37, 3.21,\n",
       "       2.75, 0.46, 2.61, 4.33, 4.75, 2.94, 4.47, 3.4, 3.76, 3.5, 8.62,\n",
       "       8.97, 4.41, 2.77, 4.83, 3.73, 3.89, 3.69, 2.9, 3.25, 2.6, 2.76,\n",
       "       3.02, 0.58, 2.96, 11.24, 2.36, 5.52, 2.44, 4.72, 3.86, 2.31, 2.64,\n",
       "       2.81, 4.67, 77, 4.53, 4.97, 1.94, 2.98, 3.15, 4.35, 3.96, 8.56,\n",
       "       2.97, 8.01, 0.23, 2.22, 105.4, 39.5, 1.88, 1.8, 2.46, 2.59, 1.87,\n",
       "       1.78, 4.86, 3.6, 8.63, 1.96, 8.42, 4.03, 3.48, 0.24, 6.2, 0.971,\n",
       "       3.37, 3.12, 2.27, 4.28, 1.72, 3.09, 128.76, 1.7, 102, 2.67, 8.5,\n",
       "       138, 153, 10.14, 2.68, 32.55, 0.48, 0.31, 0.22, 123.2, 19.02, 3.14,\n",
       "       0.43, 3.41, 2.03, 1.85, 7.8, 70.68, 98.52, 86.37, 5.34, 2.8, 5.7,\n",
       "       2.28, 8.2, 12.5, 91, 1.73, 62, 70, 73, 129, 4, 103.58, 0.42, 4.17,\n",
       "       2.54, 2.38, 2.83, 68, 2.15, 1.91, 2.87, 12.9, 116.6, 2.79, 7.2,\n",
       "       4.96, 0.3, 4.56, 2.01, 2.18, 4.13, 10.2, 0.2, 99.35, 17.1, 5.58,\n",
       "       9.02, 8.76, 5.06, 5.78, 98, 3.47, 118, 3.05, 2.37, 4.6, 0.1, 6.76,\n",
       "       3.57, 4.14, 3.58, 5.25, 0.26, 6.21, 4.1, 3.29, 4.38, 110, 3.97,\n",
       "       8.1, 3.63, 2.71, 2.49, 0.54, 9.09, 117.96, 6.15, 2.1, 3.18, 88.8,\n",
       "       5.72, 119, 3.87, 2.62, 4.04, 3.23, 63.28, 3.88, 95, 6.53],\n",
       "      dtype=object)"
      ]
     },
     "execution_count": 40,
     "metadata": {},
     "output_type": "execute_result"
    }
   ],
   "source": [
    "dataset.T3.unique()"
   ]
  },
  {
   "cell_type": "code",
   "execution_count": 41,
   "metadata": {},
   "outputs": [
    {
     "data": {
      "text/plain": [
       "(22639, 23)"
      ]
     },
     "execution_count": 41,
     "metadata": {},
     "output_type": "execute_result"
    }
   ],
   "source": [
    "(dataset[dataset.T3 == ' ']).shape"
   ]
  },
  {
   "cell_type": "code",
   "execution_count": 42,
   "metadata": {},
   "outputs": [
    {
     "data": {
      "text/plain": [
       "(21913, 23)"
      ]
     },
     "execution_count": 42,
     "metadata": {},
     "output_type": "execute_result"
    }
   ],
   "source": [
    "(dataset[dataset.T4 == ' ']).shape"
   ]
  },
  {
   "cell_type": "code",
   "execution_count": 43,
   "metadata": {},
   "outputs": [
    {
     "data": {
      "text/plain": [
       "(21582, 23)"
      ]
     },
     "execution_count": 43,
     "metadata": {},
     "output_type": "execute_result"
    }
   ],
   "source": [
    "(dataset[dataset.TGL == ' ']).shape"
   ]
  },
  {
   "cell_type": "code",
   "execution_count": 44,
   "metadata": {},
   "outputs": [
    {
     "data": {
      "text/plain": [
       "(20596, 23)"
      ]
     },
     "execution_count": 44,
     "metadata": {},
     "output_type": "execute_result"
    }
   ],
   "source": [
    "(dataset[dataset['T.Chol'] == ' ']).shape"
   ]
  },
  {
   "cell_type": "code",
   "execution_count": 47,
   "metadata": {},
   "outputs": [
    {
     "data": {
      "text/plain": [
       "(25893, 23)"
      ]
     },
     "execution_count": 47,
     "metadata": {},
     "output_type": "execute_result"
    }
   ],
   "source": [
    "(dataset[dataset['HDL'] == ' ']).shape"
   ]
  },
  {
   "cell_type": "code",
   "execution_count": 48,
   "metadata": {},
   "outputs": [
    {
     "data": {
      "text/plain": [
       "(21426, 23)"
      ]
     },
     "execution_count": 48,
     "metadata": {},
     "output_type": "execute_result"
    }
   ],
   "source": [
    "(dataset[dataset['LDL'] == ' ']).shape"
   ]
  },
  {
   "cell_type": "code",
   "execution_count": 49,
   "metadata": {},
   "outputs": [
    {
     "data": {
      "text/plain": [
       "(23390, 23)"
      ]
     },
     "execution_count": 49,
     "metadata": {},
     "output_type": "execute_result"
    }
   ],
   "source": [
    "(dataset[dataset['B.Urea'] == ' ']).shape"
   ]
  },
  {
   "cell_type": "code",
   "execution_count": 51,
   "metadata": {},
   "outputs": [
    {
     "name": "stdout",
     "output_type": "stream",
     "text": [
      "['Age', 'Gender', 'WEIGHT', 'HEIGHT', 'WAIST', 'HIP', 'BP', 'Pulse', 'BMI', 'FBS', 'PPBS', 'HBa1c', 'TSH', 'T3', 'T4', 'TGL', 'T.Chol', 'HDL', 'LDL', 'B.Urea', 'S.Creat', 'Uric Acid', 'Diabetes']\n"
     ]
    }
   ],
   "source": [
    "print(list(dataset))"
   ]
  },
  {
   "cell_type": "code",
   "execution_count": 52,
   "metadata": {},
   "outputs": [
    {
     "data": {
      "text/plain": [
       "['Age',\n",
       " 'Gender',\n",
       " 'WEIGHT',\n",
       " 'HEIGHT',\n",
       " 'WAIST',\n",
       " 'HIP',\n",
       " 'BP',\n",
       " 'Pulse',\n",
       " 'BMI',\n",
       " 'FBS',\n",
       " 'PPBS',\n",
       " 'HBa1c',\n",
       " 'TSH',\n",
       " 'T3',\n",
       " 'T4',\n",
       " 'TGL',\n",
       " 'T.Chol',\n",
       " 'HDL']"
      ]
     },
     "execution_count": 52,
     "metadata": {},
     "output_type": "execute_result"
    }
   ],
   "source": [
    "list(dataset.iloc[:,:18])"
   ]
  },
  {
   "cell_type": "code",
   "execution_count": 53,
   "metadata": {},
   "outputs": [
    {
     "data": {
      "text/plain": [
       "array(['Male', 'Female'], dtype=object)"
      ]
     },
     "execution_count": 53,
     "metadata": {},
     "output_type": "execute_result"
    }
   ],
   "source": [
    "# dataset['Gender'] = dataset['Gender'].convert_objects(convert_numeric=True)  not working\n",
    "dataset['Gender'].unique()\n"
   ]
  },
  {
   "cell_type": "code",
   "execution_count": 54,
   "metadata": {},
   "outputs": [
    {
     "data": {
      "text/plain": [
       "array([0, 1], dtype=int64)"
      ]
     },
     "execution_count": 54,
     "metadata": {},
     "output_type": "execute_result"
    }
   ],
   "source": [
    "dataset['Gender'] = pd.factorize(dataset['Gender'])[0]\n",
    "dataset['Gender'].unique()"
   ]
  },
  {
   "cell_type": "code",
   "execution_count": 55,
   "metadata": {},
   "outputs": [],
   "source": [
    "dataset['BP'].unique()\n",
    "BP = dataset.BP"
   ]
  },
  {
   "cell_type": "code",
   "execution_count": 56,
   "metadata": {},
   "outputs": [
    {
     "data": {
      "text/plain": [
       "array([   0,    1,    2, ..., 3104, 3105, 3106], dtype=int64)"
      ]
     },
     "execution_count": 56,
     "metadata": {},
     "output_type": "execute_result"
    }
   ],
   "source": [
    "# dataset['BP'] = dataset['BP'].convert_objects(convert_numeric=True) does't work\n",
    "dataset['BP'] = pd.factorize(dataset['BP'])[0]\n",
    "dataset['BP'].unique()"
   ]
  },
  {
   "cell_type": "code",
   "execution_count": 57,
   "metadata": {},
   "outputs": [
    {
     "name": "stdout",
     "output_type": "stream",
     "text": [
      "Age\n",
      "<class 'float'>\n",
      "Gender\n",
      "<class 'numpy.int64'>\n",
      "WEIGHT\n",
      "<class 'numpy.float64'>\n",
      "HEIGHT\n",
      "<class 'numpy.float64'>\n",
      "WAIST\n",
      "<class 'numpy.float64'>\n",
      "HIP\n",
      "<class 'numpy.float64'>\n",
      "BP\n",
      "<class 'numpy.int64'>\n",
      "Pulse\n",
      "<class 'numpy.float64'>\n",
      "BMI\n",
      "<class 'numpy.float64'>\n",
      "FBS\n",
      "<class 'numpy.float64'>\n",
      "PPBS\n",
      "<class 'numpy.float64'>\n",
      "HBa1c\n",
      "<class 'numpy.float64'>\n",
      "TSH\n",
      "<class 'numpy.float64'>\n",
      "T3\n",
      "<class 'str'>\n",
      "T4\n",
      "<class 'str'>\n",
      "TGL\n",
      "<class 'str'>\n",
      "T.Chol\n",
      "<class 'str'>\n",
      "HDL\n",
      "<class 'str'>\n",
      "LDL\n",
      "<class 'str'>\n",
      "B.Urea\n",
      "<class 'str'>\n",
      "S.Creat\n",
      "<class 'numpy.float64'>\n",
      "Uric Acid\n",
      "<class 'numpy.float64'>\n",
      "Diabetes\n",
      "<class 'str'>\n"
     ]
    }
   ],
   "source": [
    "for i in range(dataset.shape[1]):\n",
    "    print(list(dataset)[i])\n",
    "    print(type(dataset.iloc[:,i][0]))"
   ]
  },
  {
   "cell_type": "code",
   "execution_count": 58,
   "metadata": {},
   "outputs": [],
   "source": [
    "#factorize coloumns in order to send into algorithms and to find correlation\n",
    "Diabetes = dataset.Diabetes\n",
    "dataset['T3'] = pd.factorize(dataset['T3'])[0]\n",
    "dataset['T4'] = pd.factorize(dataset['T4'])[0]\n",
    "dataset['TGL'] = pd.factorize(dataset['TGL'])[0]\n",
    "dataset['T.Chol'] = pd.factorize(dataset['T.Chol'])[0]\n",
    "dataset['HDL'] = pd.factorize(dataset['HDL'])[0]\n",
    "dataset['LDL'] = pd.factorize(dataset['LDL'])[0]\n",
    "dataset['B.Urea'] = pd.factorize(dataset['B.Urea'])[0]\n",
    "dataset['Diabetes'] = pd.factorize(dataset['Diabetes'])[0]\n"
   ]
  },
  {
   "cell_type": "code",
   "execution_count": 59,
   "metadata": {},
   "outputs": [],
   "source": [
    "mat1 = pd.DataFrame(index=['accuracy'],columns=['logistic','knn','SVC','Naive Bayes'\n",
    "                        ,'decision tree'])"
   ]
  },
  {
   "cell_type": "code",
   "execution_count": 62,
   "metadata": {},
   "outputs": [
    {
     "name": "stdout",
     "output_type": "stream",
     "text": [
      "['Age', 'Gender', 'WEIGHT', 'HEIGHT', 'WAIST', 'HIP', 'BP', 'Pulse', 'BMI', 'FBS', 'PPBS', 'HBa1c', 'TSH', 'T3', 'T4', 'TGL', 'T.Chol', 'HDL', 'LDL', 'B.Urea', 'S.Creat', 'Uric Acid', 'Diabetes']\n",
      "23\n"
     ]
    }
   ],
   "source": [
    "print(list(dataset))\n",
    "print(len(list(dataset)))"
   ]
  },
  {
   "cell_type": "code",
   "execution_count": 64,
   "metadata": {},
   "outputs": [],
   "source": [
    "x = dataset.iloc[:,:22]\n",
    "y = dataset.Diabetes\n",
    "X_train, X_test, y_train, y_test = train_test_split(x, y, test_size=0.2,random_state=14)"
   ]
  },
  {
   "cell_type": "code",
   "execution_count": 65,
   "metadata": {},
   "outputs": [
    {
     "name": "stdout",
     "output_type": "stream",
     "text": [
      "0.7593927604226265\n"
     ]
    }
   ],
   "source": [
    "#logistic\n",
    "lr = LogisticRegression()\n",
    "lr.fit(X_train,y_train)\n",
    "lrprediction = lr.predict(x)\n",
    "mat1.loc['accuracy','logistic'] = metrics.accuracy_score(y, lrprediction)\n",
    "print(metrics.accuracy_score(y, lrprediction)) #75.5"
   ]
  },
  {
   "cell_type": "code",
   "execution_count": 66,
   "metadata": {},
   "outputs": [
    {
     "name": "stdout",
     "output_type": "stream",
     "text": [
      "model fitting done\n",
      "prediction going on\n",
      "[[3917    6    4 ...    0    0    0]\n",
      " [ 212    6    2 ...    0    0    0]\n",
      " [  75    0   42 ...    0    0    0]\n",
      " ...\n",
      " [   1    0    0 ...    0    0    0]\n",
      " [   1    0    0 ...    0    0    0]\n",
      " [   1    0    0 ...    0    0    0]]\n",
      "0.7601067887109078\n"
     ]
    }
   ],
   "source": [
    "#knn\n",
    "knn = KNeighborsClassifier(n_neighbors=25)\n",
    "knn.fit(X_train,y_train)\n",
    "print(\"model fitting done\")\n",
    "print(\"prediction going on\")\n",
    "prediction_knn= knn.predict(X_test)\n",
    "print(metrics.confusion_matrix(y_test,prediction_knn))\n",
    "mat1.loc['accuracy','knn'] = metrics.accuracy_score(y_test, prediction_knn)\n",
    "print(metrics.accuracy_score(y_test, prediction_knn))#84% ,\n"
   ]
  },
  {
   "cell_type": "code",
   "execution_count": 67,
   "metadata": {},
   "outputs": [
    {
     "name": "stdout",
     "output_type": "stream",
     "text": [
      "model fitting done\n",
      "prediction going on\n",
      "[[3934    0    0 ...    0    0    0]\n",
      " [ 210   10    1 ...    0    0    0]\n",
      " [  90    0   27 ...    0    0    0]\n",
      " ...\n",
      " [   1    0    0 ...    0    0    0]\n",
      " [   0    0    1 ...    0    0    0]\n",
      " [   1    0    0 ...    0    0    0]]\n",
      "0.7623951182303585\n"
     ]
    }
   ],
   "source": [
    "# SVC\n",
    "model =SVC()\n",
    "model.fit(X_train,y_train)\n",
    "print(\"model fitting done\")\n",
    "prediction_svc= model.predict(X_test)\n",
    "print(\"prediction going on\")\n",
    "print(metrics.confusion_matrix(y_test,prediction_svc))\n",
    "mat1.loc['accuracy','SVC'] = metrics.accuracy_score(y_test, prediction_svc)\n",
    "print(metrics.accuracy_score(y_test, prediction_svc)) #83.7 \n"
   ]
  },
  {
   "cell_type": "code",
   "execution_count": 68,
   "metadata": {},
   "outputs": [
    {
     "name": "stdout",
     "output_type": "stream",
     "text": [
      "0.013920671243325706\n"
     ]
    }
   ],
   "source": [
    "#naive Bayes\n",
    "NBC = GaussianNB()\n",
    "NBC.fit(X_train,y_train)\n",
    "y_pred_test = NBC.predict(X_test)\n",
    "mat1.loc['accuracy','Naive Bayes'] = metrics.accuracy_score(y_test,y_pred_test)\n",
    "print(metrics.accuracy_score(y_test,y_pred_test)) #72% , after pulse drop 10.5%"
   ]
  },
  {
   "cell_type": "code",
   "execution_count": 69,
   "metadata": {},
   "outputs": [
    {
     "name": "stdout",
     "output_type": "stream",
     "text": [
      "0.7721205186880244\n"
     ]
    }
   ],
   "source": [
    "#decision tree\n",
    "class_tree = DecisionTreeClassifier(min_samples_split=30,min_samples_leaf=10,random_state = 10)\n",
    "class_tree.fit(X_train,y_train)\n",
    "y_pred_test = class_tree.predict(X_test)\n",
    "mat1.loc['accuracy','decision tree'] = metrics.accuracy_score(y_test,y_pred_test)\n",
    "print(metrics.accuracy_score(y_test,y_pred_test)) #85% , after pulse drop 83.9\n",
    "# print(metrics.recall_score(y_pred=y_pred_test,y_true=y_test))"
   ]
  },
  {
   "cell_type": "code",
   "execution_count": 73,
   "metadata": {},
   "outputs": [
    {
     "data": {
      "text/plain": [
       "<bound method _AxesBase.grid of <matplotlib.axes._subplots.AxesSubplot object at 0x000001C7FD2FEC50>>"
      ]
     },
     "execution_count": 73,
     "metadata": {},
     "output_type": "execute_result"
    },
    {
     "data": {
      "image/png": "[encoded data removed]",
      "text/plain": [
       "<Figure size 576x360 with 1 Axes>"
      ]
     },
     "metadata": {},
     "output_type": "display_data"
    }
   ],
   "source": [
    "fig,ax = plt.subplots(figsize=(8,5))\n",
    "mat1.plot(kind='barh',ax=ax)\n",
    "ax.grid"
   ]
  },
  {
   "cell_type": "code",
   "execution_count": 74,
   "metadata": {},
   "outputs": [
    {
     "name": "stdout",
     "output_type": "stream",
     "text": [
      "----------------------------------------\n",
      "----------------------------------------\n",
      "----------------------------------------\n",
      "cols having dependency are : 4 5 WAIST HIP\n",
      "----------------------------------------\n",
      "cols having dependency are : 5 4 HIP WAIST\n",
      "----------------------------------------\n",
      "cols having dependency are : 6 7 BP Pulse\n",
      "----------------------------------------\n",
      "cols having dependency are : 7 6 Pulse BP\n",
      "----------------------------------------\n",
      "----------------------------------------\n",
      "----------------------------------------\n",
      "----------------------------------------\n",
      "----------------------------------------\n",
      "----------------------------------------\n",
      "cols having dependency are : 13 14 T3 T4\n",
      "----------------------------------------\n",
      "cols having dependency are : 14 13 T4 T3\n",
      "----------------------------------------\n",
      "cols having dependency are : 15 16 TGL T.Chol\n",
      "----------------------------------------\n",
      "cols having dependency are : 16 15 T.Chol TGL\n",
      "----------------------------------------\n",
      "----------------------------------------\n",
      "----------------------------------------\n",
      "----------------------------------------\n",
      "----------------------------------------\n",
      "----------------------------------------\n",
      "----------------------------------------\n"
     ]
    }
   ],
   "source": [
    "#finding correlation coefficent between input variables\n",
    "for i in range(1,dataset.shape[1]):\n",
    "    for j in range(1,dataset.shape[1]):\n",
    "        if(i!=j):\n",
    "            temp=corrcoef(dataset.iloc[:,i],dataset.iloc[:,j])[0,1]\n",
    "            if( (temp<= -float(0.5) or temp>=float(0.5)) ):            \n",
    "                print('cols having dependency are :',i,j,list(dataset)[i],list(dataset)[j])\n",
    "    print('----------------------------------------')"
   ]
  },
  {
   "cell_type": "code",
   "execution_count": 75,
   "metadata": {},
   "outputs": [
    {
     "name": "stdout",
     "output_type": "stream",
     "text": [
      "['ADate', 'pid', 'Age', 'Gender', 'WEIGHT', 'HEIGHT', 'WAIST', 'HIP', 'BP', 'Pulse', 'BMI', 'FBS', 'PPBS', 'HBa1c', 'TSH', 'T3', 'T4', 'TGL', 'T.Chol', 'HDL', 'LDL', 'B.Urea', 'S.Creat', 'Uric Acid', 'Diabetes', 'hypertension', 'thyroid']\n"
     ]
    }
   ],
   "source": [
    "print(list(attributes))"
   ]
  },
  {
   "cell_type": "code",
   "execution_count": 76,
   "metadata": {},
   "outputs": [],
   "source": [
    "# waist , hip , bp, pulse are having dependence on each other\n",
    "# so we are removing pulse, and hip\n",
    "dataset = dataset.drop(columns = ['WAIST']) # have to deal with waist\n",
    "dataset = dataset.drop(['Pulse','T3','TGL'],axis=1)"
   ]
  },
  {
   "cell_type": "code",
   "execution_count": 77,
   "metadata": {},
   "outputs": [
    {
     "name": "stdout",
     "output_type": "stream",
     "text": [
      "['Age', 'Gender', 'WEIGHT', 'HEIGHT', 'HIP', 'BP', 'BMI', 'FBS', 'PPBS', 'HBa1c', 'TSH', 'T4', 'T.Chol', 'HDL', 'LDL', 'B.Urea', 'S.Creat', 'Uric Acid', 'Diabetes']\n",
      "19\n"
     ]
    }
   ],
   "source": [
    "dataset.Diabetes = Diabetes\n",
    "dataset.BP = BP\n",
    "print(list(dataset))\n",
    "print(len(list(dataset)))"
   ]
  },
  {
   "cell_type": "code",
   "execution_count": 78,
   "metadata": {},
   "outputs": [
    {
     "data": {
      "text/plain": [
       "array([0, 0, 0, ..., 3, 8, 3], dtype=int64)"
      ]
     },
     "execution_count": 78,
     "metadata": {},
     "output_type": "execute_result"
    }
   ],
   "source": [
    " pd.factorize(dataset['Diabetes'])[0]"
   ]
  },
  {
   "cell_type": "code",
   "execution_count": 79,
   "metadata": {},
   "outputs": [],
   "source": [
    "#because of less availability of values , removing\n",
    "\n",
    "dataset = dataset.drop(['HDL','LDL','B.Urea','Uric Acid'],axis=1)\n",
    "dataset = dataset.drop(['T4','T.Chol'],axis=1)"
   ]
  },
  {
   "cell_type": "code",
   "execution_count": 80,
   "metadata": {},
   "outputs": [
    {
     "data": {
      "text/plain": [
       "13"
      ]
     },
     "execution_count": 80,
     "metadata": {},
     "output_type": "execute_result"
    }
   ],
   "source": [
    "len(list(dataset))"
   ]
  },
  {
   "cell_type": "code",
   "execution_count": 85,
   "metadata": {},
   "outputs": [],
   "source": [
    "dataset.BP = pd.factorize(dataset.BP)[0]\n",
    "x = dataset.iloc[:,:12]\n",
    "# y=dataset.Diabetes\n",
    "y = pd.factorize(dataset['Diabetes'])[0]\n",
    "X_train, X_test, y_train, y_test = train_test_split(x, y, test_size=0.2,random_state=14)"
   ]
  },
  {
   "cell_type": "code",
   "execution_count": 86,
   "metadata": {},
   "outputs": [
    {
     "name": "stdout",
     "output_type": "stream",
     "text": [
      "0.7559598733646108\n"
     ]
    }
   ],
   "source": [
    "#logistic\n",
    "lr = LogisticRegression()\n",
    "lr.fit(X_train,y_train)\n",
    "lrprediction = lr.predict(x)\n",
    "mat1.loc['accuracy','logistic'] = metrics.accuracy_score(y, lrprediction)\n",
    "print(metrics.accuracy_score(y, lrprediction)) #75.5"
   ]
  },
  {
   "cell_type": "code",
   "execution_count": 87,
   "metadata": {},
   "outputs": [
    {
     "name": "stdout",
     "output_type": "stream",
     "text": [
      "model fitting done\n",
      "prediction going on\n",
      "[[3919    1    2 ...    0    0    0]\n",
      " [ 210    5    3 ...    0    0    0]\n",
      " [  72    1   43 ...    0    0    0]\n",
      " ...\n",
      " [   1    0    0 ...    0    0    0]\n",
      " [   1    0    0 ...    0    0    0]\n",
      " [   1    0    0 ...    0    0    0]]\n",
      "0.7601067887109078\n"
     ]
    }
   ],
   "source": [
    "#knn\n",
    "knn = KNeighborsClassifier(n_neighbors=25)\n",
    "knn.fit(X_train,y_train)\n",
    "print(\"model fitting done\")\n",
    "print(\"prediction going on\")\n",
    "prediction_knn= knn.predict(X_test)\n",
    "print(metrics.confusion_matrix(y_test,prediction_knn))\n",
    "mat1.loc['accuracy','knn'] = metrics.accuracy_score(y_test, prediction_knn)\n",
    "print(metrics.accuracy_score(y_test, prediction_knn))#84% "
   ]
  },
  {
   "cell_type": "code",
   "execution_count": 88,
   "metadata": {},
   "outputs": [
    {
     "name": "stdout",
     "output_type": "stream",
     "text": [
      "model fitting done\n",
      "prediction going on\n",
      "[[3929    0    1 ...    0    0    0]\n",
      " [ 208   11    1 ...    0    0    0]\n",
      " [  93    0   24 ...    0    0    0]\n",
      " ...\n",
      " [   1    0    0 ...    0    0    0]\n",
      " [   0    0    1 ...    0    0    0]\n",
      " [   1    0    0 ...    0    0    0]]\n",
      "0.7618230358504958\n"
     ]
    }
   ],
   "source": [
    "# SVC\n",
    "model =SVC()\n",
    "model.fit(X_train,y_train)\n",
    "print(\"model fitting done\")\n",
    "prediction_svc= model.predict(X_test)\n",
    "print(\"prediction going on\")\n",
    "print(metrics.confusion_matrix(y_test,prediction_svc))\n",
    "mat1.loc['accuracy','SVC'] = metrics.accuracy_score(y_test, prediction_svc)\n",
    "print(metrics.accuracy_score(y_test, prediction_svc)) #83.7 "
   ]
  },
  {
   "cell_type": "code",
   "execution_count": 89,
   "metadata": {},
   "outputs": [
    {
     "name": "stdout",
     "output_type": "stream",
     "text": [
      "0.034324942791762014\n"
     ]
    }
   ],
   "source": [
    "\n",
    "#naive Bayes\n",
    "NBC = GaussianNB()\n",
    "NBC.fit(X_train,y_train)\n",
    "y_pred_test = NBC.predict(X_test)\n",
    "mat1.loc['accuracy','Naive Bayes'] = metrics.accuracy_score(y_test,y_pred_test)\n",
    "print(metrics.accuracy_score(y_test,y_pred_test)) #72% , after pulse drop 10.5%\n"
   ]
  },
  {
   "cell_type": "code",
   "execution_count": 90,
   "metadata": {},
   "outputs": [
    {
     "name": "stdout",
     "output_type": "stream",
     "text": [
      "0.7740274599542334\n"
     ]
    }
   ],
   "source": [
    "#decision tree\n",
    "class_tree = DecisionTreeClassifier(min_samples_split=30,min_samples_leaf=10,random_state = 10)\n",
    "class_tree.fit(X_train,y_train)\n",
    "y_pred_test = class_tree.predict(X_test)\n",
    "mat1.loc['accuracy','decision tree'] = metrics.accuracy_score(y_test,y_pred_test)\n",
    "print(metrics.accuracy_score(y_test,y_pred_test)) #85% , after pulse drop 83.9\n",
    "# print(metrics.recall_score(y_pred=y_pred_test,y_true=y_test))\n"
   ]
  },
  {
   "cell_type": "code",
   "execution_count": 92,
   "metadata": {},
   "outputs": [
    {
     "data": {
      "text/plain": [
       "<bound method _AxesBase.grid of <matplotlib.axes._subplots.AxesSubplot object at 0x000001C7FDB54F60>>"
      ]
     },
     "execution_count": 92,
     "metadata": {},
     "output_type": "execute_result"
    },
    {
     "data": {
      "image/png": "[encoded data removed]",
      "text/plain": [
       "<Figure size 576x360 with 1 Axes>"
      ]
     },
     "metadata": {},
     "output_type": "display_data"
    }
   ],
   "source": [
    "fig,ax = plt.subplots(figsize=(8,5))\n",
    "mat1.plot(kind='barh',ax=ax)\n",
    "ax.grid"
   ]
  },
  {
   "cell_type": "code",
   "execution_count": null,
   "metadata": {},
   "outputs": [],
   "source": [
    "#deal with zeros"
   ]
  },
  {
   "cell_type": "code",
   "execution_count": 93,
   "metadata": {},
   "outputs": [
    {
     "name": "stdout",
     "output_type": "stream",
     "text": [
      "['Age', 'Gender', 'WEIGHT', 'HEIGHT', 'HIP', 'BP', 'BMI', 'FBS', 'PPBS', 'HBa1c', 'TSH', 'S.Creat', 'Diabetes']\n"
     ]
    }
   ],
   "source": [
    "print(list(dataset))"
   ]
  },
  {
   "cell_type": "code",
   "execution_count": 94,
   "metadata": {},
   "outputs": [],
   "source": [
    "#dealing with zeros"
   ]
  },
  {
   "cell_type": "code",
   "execution_count": 95,
   "metadata": {},
   "outputs": [],
   "source": [
    "total = dataset.shape[0]"
   ]
  },
  {
   "cell_type": "code",
   "execution_count": 96,
   "metadata": {},
   "outputs": [
    {
     "name": "stderr",
     "output_type": "stream",
     "text": [
      "H:\\installed_in_edu\\anaconda\\lib\\site-packages\\ipykernel_launcher.py:1: FutureWarning: convert_objects is deprecated.  To re-infer data dtypes for object columns, use Series.infer_objects()\n",
      "For all other conversions use the data-type specific converters pd.to_datetime, pd.to_timedelta and pd.to_numeric.\n",
      "  \"\"\"Entry point for launching an IPython kernel.\n"
     ]
    }
   ],
   "source": [
    "dataset.Age = dataset.Age.convert_objects(convert_numeric=True)"
   ]
  },
  {
   "cell_type": "code",
   "execution_count": 97,
   "metadata": {},
   "outputs": [
    {
     "name": "stderr",
     "output_type": "stream",
     "text": [
      "H:\\installed_in_edu\\anaconda\\lib\\site-packages\\ipykernel_launcher.py:1: SettingWithCopyWarning: \n",
      "A value is trying to be set on a copy of a slice from a DataFrame\n",
      "\n",
      "See the caveats in the documentation: http://pandas.pydata.org/pandas-docs/stable/indexing.html#indexing-view-versus-copy\n",
      "  \"\"\"Entry point for launching an IPython kernel.\n"
     ]
    }
   ],
   "source": [
    "dataset.WEIGHT[dataset.WEIGHT == 0]=70"
   ]
  },
  {
   "cell_type": "code",
   "execution_count": 98,
   "metadata": {},
   "outputs": [],
   "source": [
    "# dataset.WEIGHT.unique()"
   ]
  },
  {
   "cell_type": "code",
   "execution_count": 99,
   "metadata": {},
   "outputs": [
    {
     "data": {
      "text/plain": [
       "(4147,)"
      ]
     },
     "execution_count": 99,
     "metadata": {},
     "output_type": "execute_result"
    }
   ],
   "source": [
    "dataset.HEIGHT[dataset.HEIGHT == 0].shape"
   ]
  },
  {
   "cell_type": "code",
   "execution_count": 100,
   "metadata": {},
   "outputs": [
    {
     "name": "stderr",
     "output_type": "stream",
     "text": [
      "H:\\installed_in_edu\\anaconda\\lib\\site-packages\\ipykernel_launcher.py:1: SettingWithCopyWarning: \n",
      "A value is trying to be set on a copy of a slice from a DataFrame\n",
      "\n",
      "See the caveats in the documentation: http://pandas.pydata.org/pandas-docs/stable/indexing.html#indexing-view-versus-copy\n",
      "  \"\"\"Entry point for launching an IPython kernel.\n"
     ]
    }
   ],
   "source": [
    "#replacing height values with 150 where height =0 initally\n",
    "dataset.HEIGHT[dataset.HEIGHT == 0] = 150"
   ]
  },
  {
   "cell_type": "code",
   "execution_count": 101,
   "metadata": {},
   "outputs": [
    {
     "data": {
      "text/plain": [
       "(20625,)"
      ]
     },
     "execution_count": 101,
     "metadata": {},
     "output_type": "execute_result"
    }
   ],
   "source": [
    "dataset.HIP[dataset.HIP == 0].shape "
   ]
  },
  {
   "cell_type": "code",
   "execution_count": 102,
   "metadata": {},
   "outputs": [],
   "source": [
    "dataset = dataset.drop(columns = ['HIP']) # have to deal with hip"
   ]
  },
  {
   "cell_type": "code",
   "execution_count": 103,
   "metadata": {},
   "outputs": [],
   "source": [
    "#we will add hip/waist ratio after diabetic classification is done"
   ]
  },
  {
   "cell_type": "code",
   "execution_count": 104,
   "metadata": {},
   "outputs": [
    {
     "name": "stdout",
     "output_type": "stream",
     "text": [
      "['Age', 'Gender', 'WEIGHT', 'HEIGHT', 'BP', 'BMI', 'FBS', 'PPBS', 'HBa1c', 'TSH', 'S.Creat', 'Diabetes']\n"
     ]
    }
   ],
   "source": [
    "print(list(dataset))"
   ]
  },
  {
   "cell_type": "code",
   "execution_count": 105,
   "metadata": {},
   "outputs": [
    {
     "data": {
      "text/plain": [
       "array([   0,    1,    2, ..., 3104, 3105, 3106], dtype=int64)"
      ]
     },
     "execution_count": 105,
     "metadata": {},
     "output_type": "execute_result"
    }
   ],
   "source": [
    "dataset.BP.unique() #next time take data and dataset seperately"
   ]
  },
  {
   "cell_type": "code",
   "execution_count": 106,
   "metadata": {},
   "outputs": [
    {
     "data": {
      "text/plain": [
       "3107"
      ]
     },
     "execution_count": 106,
     "metadata": {},
     "output_type": "execute_result"
    }
   ],
   "source": [
    "len(BP.unique())"
   ]
  },
  {
   "cell_type": "code",
   "execution_count": 107,
   "metadata": {},
   "outputs": [
    {
     "data": {
      "text/plain": [
       "(4398,)"
      ]
     },
     "execution_count": 107,
     "metadata": {},
     "output_type": "execute_result"
    }
   ],
   "source": [
    "dataset.BMI[dataset.BMI == 0].shape"
   ]
  },
  {
   "cell_type": "code",
   "execution_count": 108,
   "metadata": {},
   "outputs": [
    {
     "name": "stderr",
     "output_type": "stream",
     "text": [
      "H:\\installed_in_edu\\anaconda\\lib\\site-packages\\ipykernel_launcher.py:1: SettingWithCopyWarning: \n",
      "A value is trying to be set on a copy of a slice from a DataFrame\n",
      "\n",
      "See the caveats in the documentation: http://pandas.pydata.org/pandas-docs/stable/indexing.html#indexing-view-versus-copy\n",
      "  \"\"\"Entry point for launching an IPython kernel.\n"
     ]
    }
   ],
   "source": [
    "dataset.BMI[dataset.BMI == 0] = 21"
   ]
  },
  {
   "cell_type": "code",
   "execution_count": 109,
   "metadata": {},
   "outputs": [
    {
     "data": {
      "text/plain": [
       "(0,)"
      ]
     },
     "execution_count": 109,
     "metadata": {},
     "output_type": "execute_result"
    }
   ],
   "source": [
    "dataset.BMI[dataset['S.Creat'] == 0].shape"
   ]
  },
  {
   "cell_type": "code",
   "execution_count": 111,
   "metadata": {},
   "outputs": [
    {
     "name": "stdout",
     "output_type": "stream",
     "text": [
      "['Age', 'Gender', 'WEIGHT', 'HEIGHT', 'BP', 'BMI', 'FBS', 'PPBS', 'HBa1c', 'TSH', 'S.Creat', 'Diabetes']\n",
      "12\n"
     ]
    }
   ],
   "source": [
    "print(list(dataset))\n",
    "print(len(list(dataset)))"
   ]
  },
  {
   "cell_type": "code",
   "execution_count": 112,
   "metadata": {},
   "outputs": [],
   "source": [
    "x = dataset.iloc[:,:11]\n",
    "y = pd.factorize(dataset['Diabetes'])[0]"
   ]
  },
  {
   "cell_type": "code",
   "execution_count": 113,
   "metadata": {},
   "outputs": [],
   "source": [
    "X_train, X_test, y_train, y_test = train_test_split(x, y, test_size=0.2,random_state=14)"
   ]
  },
  {
   "cell_type": "code",
   "execution_count": 114,
   "metadata": {},
   "outputs": [
    {
     "name": "stdout",
     "output_type": "stream",
     "text": [
      "0.7555021550902087\n",
      "model fitting done\n",
      "prediction going on\n",
      "[[3922    2    2 ...    0    0    0]\n",
      " [ 210    5    3 ...    0    0    0]\n",
      " [  77    0   39 ...    0    0    0]\n",
      " ...\n",
      " [   1    0    0 ...    0    0    0]\n",
      " [   1    0    0 ...    0    0    0]\n",
      " [   1    0    0 ...    0    0    0]]\n",
      "0.7599160945842868\n",
      "model fitting done\n",
      "prediction going on\n",
      "[[3930    0    1 ...    0    0    0]\n",
      " [ 206   13    1 ...    0    0    0]\n",
      " [  93    0   24 ...    0    0    0]\n",
      " ...\n",
      " [   1    0    0 ...    0    0    0]\n",
      " [   0    0    1 ...    0    0    0]\n",
      " [   1    0    0 ...    0    0    0]]\n",
      "0.7623951182303585\n",
      "0.033943554538520215\n",
      "0.7797482837528604\n"
     ]
    }
   ],
   "source": [
    "\n",
    "#logistic\n",
    "lr = LogisticRegression()\n",
    "lr.fit(X_train,y_train)\n",
    "lrprediction = lr.predict(x)\n",
    "mat1.loc['accuracy','logistic'] = metrics.accuracy_score(y, lrprediction)\n",
    "print(metrics.accuracy_score(y, lrprediction)) #75.5\n",
    "\n",
    "#knn\n",
    "knn = KNeighborsClassifier(n_neighbors=25)\n",
    "knn.fit(X_train,y_train)\n",
    "print(\"model fitting done\")\n",
    "print(\"prediction going on\")\n",
    "prediction_knn= knn.predict(X_test)\n",
    "print(metrics.confusion_matrix(y_test,prediction_knn))\n",
    "mat1.loc['accuracy','knn'] = metrics.accuracy_score(y_test, prediction_knn)\n",
    "print(metrics.accuracy_score(y_test, prediction_knn))#84% ,\n",
    "\n",
    "\n",
    "# SVC\n",
    "model =SVC()\n",
    "model.fit(X_train,y_train)\n",
    "print(\"model fitting done\")\n",
    "prediction_svc= model.predict(X_test)\n",
    "print(\"prediction going on\")\n",
    "print(metrics.confusion_matrix(y_test,prediction_svc))\n",
    "mat1.loc['accuracy','SVC'] = metrics.accuracy_score(y_test, prediction_svc)\n",
    "print(metrics.accuracy_score(y_test, prediction_svc)) #83.7 \n",
    "\n",
    "\n",
    "#naive Bayes\n",
    "NBC = GaussianNB()\n",
    "NBC.fit(X_train,y_train)\n",
    "y_pred_test = NBC.predict(X_test)\n",
    "mat1.loc['accuracy','Naive Bayes'] = metrics.accuracy_score(y_test,y_pred_test)\n",
    "print(metrics.accuracy_score(y_test,y_pred_test)) #72% , after pulse drop 10.5%\n",
    "\n",
    "#decision tree\n",
    "class_tree = DecisionTreeClassifier(min_samples_split=30,min_samples_leaf=10,random_state = 10)\n",
    "class_tree.fit(X_train,y_train)\n",
    "y_pred_test = class_tree.predict(X_test)\n",
    "mat1.loc['accuracy','decision tree'] = metrics.accuracy_score(y_test,y_pred_test)\n",
    "print(metrics.accuracy_score(y_test,y_pred_test)) #85% , after pulse drop 83.9\n",
    "# print(metrics.recall_score(y_pred=y_pred_test,y_true=y_test))\n",
    "\n"
   ]
  },
  {
   "cell_type": "code",
   "execution_count": 115,
   "metadata": {},
   "outputs": [
    {
     "data": {
      "text/plain": [
       "<bound method _AxesBase.grid of <matplotlib.axes._subplots.AxesSubplot object at 0x000001C7FDCE50F0>>"
      ]
     },
     "execution_count": 115,
     "metadata": {},
     "output_type": "execute_result"
    },
    {
     "data": {
      "image/png": "[encoded data removed]",
      "text/plain": [
       "<Figure size 576x360 with 1 Axes>"
      ]
     },
     "metadata": {},
     "output_type": "display_data"
    }
   ],
   "source": [
    "fig,ax = plt.subplots(figsize=(8,5))\n",
    "mat1.plot(kind='barh',ax=ax)\n",
    "ax.grid\n"
   ]
  },
  {
   "cell_type": "code",
   "execution_count": 116,
   "metadata": {},
   "outputs": [],
   "source": [
    "# consider classfications in diabetes and then\n",
    "# hip waist ratop from https://www.ncbi.nlm.nih.gov/pmc/articles/PMC3121190/"
   ]
  },
  {
   "cell_type": "code",
   "execution_count": 117,
   "metadata": {},
   "outputs": [
    {
     "data": {
      "text/plain": [
       "array(['Type2 diabetes', 'Pre diabetic', 'Type1 diabetes',\n",
       "       'Type2 diabetes (E11.65)', 'Pregnant Type2 diabetes', 'GDM',\n",
       "       'Type2 diabetes -newly', 'Type2 diabetes newly diagnoised',\n",
       "       'Pre diabetic (R73.03)', 'DENOVOType2 diabetes', 'Diabetes',\n",
       "       '? Type1 diabetes', '?Type2 diabetes', 'denovo Type2 diabetes',\n",
       "       'Type1 diabetes (E 10.9)', 'Type2 diabetes newly diagnosed',\n",
       "       'denovoType2 diabetes', '?Type1 diabetes', 'pancreatic diabetes',\n",
       "       'Type2 diabetes complicated pregnancy', 'R/O Type1 diabetes',\n",
       "       'Secondary Diabetes', 'Type2 diabetes  - newly diagnosed',\n",
       "       'Type2 diabetes Newly Diagnosed', 'Type2 diabetes Newly diag',\n",
       "       'Type2 diabetes with pregnancy', 'Type2 diabetes, new onset',\n",
       "       'de Novo Type2 diabetes', 'Type2 diabetes Rt.frozen sholder',\n",
       "       'newly diagnosed Type2 diabetes',\n",
       "       'Type2 diabetes complicating pregnancy',\n",
       "       'Type2 diabetes Newly diagnosed', 'Pancreatic Diabetes',\n",
       "       '? Type2 diabetes', 'Type2 diabetes With BOH',\n",
       "       'Newly Diagnosed Type2 diabetes',\n",
       "       'Type2 diabetes Recently Diagnosed',\n",
       "       'pregnancy complicated by Type2 diabetes',\n",
       "       'Pregnant with Type2 diabetes', 'newly Type2 diabetes',\n",
       "       'Newly diagnosed Type2 diabetes',\n",
       "       'Type2 diabetes, newly diagnosed.', 'Denovo Type2 diabetes',\n",
       "       'Type2 diabetes de Novo', '? GDM', 'Type1 diabetes  de Novo',\n",
       "       'DENOVO Type2 diabetes', 'Type2 diabetes- DENOVO',\n",
       "       'de novo Type2 diabetes', 'past GDM',\n",
       "       'denovo Type2 diabetes (E11.65)', 'GDM with precious pregnancy',\n",
       "       'Type2 diabetes newly Diagnosed', 'Type1 diabetes de Novo',\n",
       "       'Type2 diabetes with single Kidney', 'GDM (O 24.410)',\n",
       "       'secondary  diabetes', 'denovoType2 diabetes (E11.65)',\n",
       "       'Type2 diabetes de Nova', 'Type2 diabetes deNovo',\n",
       "       'denvoType2 diabetes', 'IFG', 'Type2 diabetes, DENOVO',\n",
       "       'denovo -Type2 diabetes', 'Type2 diabetes denovo',\n",
       "       'denovo Type1 diabetes', 'denovoType1 diabetes',\n",
       "       'deenovoType2 diabetes', 'MODY --Type2 diabetes',\n",
       "       'MODYType2 diabetes', 'DenovoType2 diabetes',\n",
       "       'denovType2 diabetes', 'Pancriatic diabetes', 'scondary diabetes',\n",
       "       '?MODY', 'Type2 diabetes under good control', 'denoType2 diabetes',\n",
       "       'Type2 diabetes uncontrolled', 'chronic pancreatitis',\n",
       "       'Type2 diabetes Uncontrolled BG', 'secondary',\n",
       "       '?secondary Diabetes', 'Type1B  Diabetes',\n",
       "       'Denovo ? Type2 diabetes', 'Prgnant with Type2 diabetes',\n",
       "       '?Type2 diabetes,GDM', 'DnovoType2 diabetes',\n",
       "       '?denovoType2 diabetes', 'Type2 diabetes complicating Diabetes',\n",
       "       'denovo  Type2 diabetes', 'deovoType2 diabetes (E11.65)',\n",
       "       'Denovo Type2 diabetes (E11.65)', '? Type2 diabetes (E11.65)',\n",
       "       'Type2 diabetes (E11.65) complicating Pregnancy',\n",
       "       'DENOVO Type2 diabetes (E11.65)',\n",
       "       'Resolved Type2 diabetes (E11.65)',\n",
       "       'DenovoType2 diabetes (E11.65)', '? GDM (O 24.410)', '2* Diabetes',\n",
       "       '?Type1 diabetes (E 10.9)', 'dnovo Type2 diabetes (E11.65)',\n",
       "       '?GDM (O 24.410)', '? Type1 diabetes (E 10.9)', '? MODY'],\n",
       "      dtype=object)"
      ]
     },
     "execution_count": 117,
     "metadata": {},
     "output_type": "execute_result"
    }
   ],
   "source": [
    "#different categories of output variable provided\n",
    "dataset.Diabetes.unique()"
   ]
  },
  {
   "cell_type": "code",
   "execution_count": 118,
   "metadata": {},
   "outputs": [
    {
     "name": "stderr",
     "output_type": "stream",
     "text": [
      "H:\\installed_in_edu\\anaconda\\lib\\site-packages\\ipykernel_launcher.py:12: SettingWithCopyWarning: \n",
      "A value is trying to be set on a copy of a slice from a DataFrame\n",
      "\n",
      "See the caveats in the documentation: http://pandas.pydata.org/pandas-docs/stable/indexing.html#indexing-view-versus-copy\n",
      "  if sys.path[0] == '':\n"
     ]
    }
   ],
   "source": [
    "#generalization category 1\n",
    "dataset.Diabetes[(dataset.Diabetes =='Type2 diabetes') |\n",
    "                 (dataset.Diabetes =='Type2 diabetes (E11.65)') | \n",
    "                 (dataset.Diabetes =='?Type2 diabetes') | \n",
    "                 (dataset.Diabetes =='Type2 diabetes Rt.frozen sholder') | \n",
    "                 (dataset.Diabetes =='? Type2 diabetes') | \n",
    "                 (dataset.Diabetes =='Type2 diabetes With BOH') | \n",
    "                 (dataset.Diabetes =='Type2 diabetes with single Kidney') |\n",
    "                 (dataset.Diabetes =='Type2 diabetes uncontrolled') |\n",
    "                 (dataset.Diabetes =='Type2 diabetes Uncontrolled BG') |\n",
    "                 (dataset.Diabetes =='? Type2 diabetes (E11.65)') |\n",
    "                 (dataset.Diabetes =='2* Diabetes') |\n",
    "                 (dataset.Diabetes =='Type2 diabetes complicating Diabetes')] = 'Type2 diabetes'"
   ]
  },
  {
   "cell_type": "code",
   "execution_count": 119,
   "metadata": {},
   "outputs": [
    {
     "name": "stderr",
     "output_type": "stream",
     "text": [
      "H:\\installed_in_edu\\anaconda\\lib\\site-packages\\ipykernel_launcher.py:47: SettingWithCopyWarning: \n",
      "A value is trying to be set on a copy of a slice from a DataFrame\n",
      "\n",
      "See the caveats in the documentation: http://pandas.pydata.org/pandas-docs/stable/indexing.html#indexing-view-versus-copy\n"
     ]
    }
   ],
   "source": [
    "#generalization category 1\n",
    "dataset.Diabetes[(dataset.Diabetes =='Type2 diabetes -newly') |\n",
    "                 (dataset.Diabetes =='Type2 diabetes newly diagnoised') |\n",
    "                 (dataset.Diabetes =='DENOVOType2 diabetes') |\n",
    "                 (dataset.Diabetes =='denovo Type2 diabetes') |\n",
    "                 (dataset.Diabetes =='Type2 diabetes newly diagnosed') |\n",
    "                 (dataset.Diabetes =='denovoType2 diabetes') |\n",
    "                 (dataset.Diabetes =='Type2 diabetes  - newly diagnosed') |\n",
    "                 (dataset.Diabetes =='Type2 diabetes Newly Diagnosed') |\n",
    "                 (dataset.Diabetes =='Type2 diabetes Newly diag') |\n",
    "                 (dataset.Diabetes =='Type2 diabetes, new onset') |\n",
    "                 (dataset.Diabetes =='de Novo Type2 diabetes') |\n",
    "                 (dataset.Diabetes =='newly diagnosed Type2 diabetes') |\n",
    "                 (dataset.Diabetes =='Type2 diabetes Newly diagnosed' )|\n",
    "                 (dataset.Diabetes =='Newly Diagnosed Type2 diabetes' )|\n",
    "                 (dataset.Diabetes =='Type2 diabetes Recently Diagnosed') |\n",
    "                 (dataset.Diabetes =='newly Type2 diabetes' )|\n",
    "                 (dataset.Diabetes =='Newly diagnosed Type2 diabetes') |\n",
    "                 (dataset.Diabetes =='Type2 diabetes, newly diagnosed.') |\n",
    "                 (dataset.Diabetes =='Denovo Type2 diabetes' )|\n",
    "                 (dataset.Diabetes =='Type2 diabetes de Novo') |\n",
    "                 (dataset.Diabetes =='DENOVO Type2 diabetes' )|\n",
    "                 (dataset.Diabetes =='Type2 diabetes- DENOVO') |\n",
    "                 (dataset.Diabetes =='de novo Type2 diabetes') |\n",
    "                 (dataset.Diabetes =='denovo Type2 diabetes (E11.65)') |\n",
    "                 (dataset.Diabetes =='Type2 diabetes newly Diagnosed')|\n",
    "                 (dataset.Diabetes =='denovoType2 diabetes (E11.65)')|\n",
    "                  (dataset.Diabetes =='Type2 diabetes de Nova' )|\n",
    "                 (dataset.Diabetes =='Type2 diabetes deNovo' )|\n",
    "                 (dataset.Diabetes =='denvoType2 diabetes' )|\n",
    "                 (dataset.Diabetes =='Type2 diabetes, DENOVO' )|\n",
    "                 (dataset.Diabetes =='denovo -Type2 diabetes' )|\n",
    "                 (dataset.Diabetes =='Type2 diabetes denovo' )|\n",
    "                 (dataset.Diabetes =='deenovoType2 diabetes' )|\n",
    "                 (dataset.Diabetes =='DenovoType2 diabetes')|\n",
    "                 (dataset.Diabetes =='denovType2 diabetes')|\n",
    "                 (dataset.Diabetes =='Type2 diabetes under good control') |\n",
    "                 (dataset.Diabetes =='denoType2 diabetes')|\n",
    "                 (dataset.Diabetes =='Denovo ? Type2 diabetes' )|\n",
    "                 (dataset.Diabetes =='DnovoType2 diabetes' )|\n",
    "                 (dataset.Diabetes =='?denovoType2 diabetes' )|\n",
    "                 (dataset.Diabetes =='denovo  Type2 diabetes' )| \n",
    "                 (dataset.Diabetes =='deovoType2 diabetes (E11.65)' )|\n",
    "                 (dataset.Diabetes =='Denovo Type2 diabetes (E11.65)' )|\n",
    "                 (dataset.Diabetes =='DENOVO Type2 diabetes (E11.65)')|\n",
    "               (dataset.Diabetes =='Resolved Type2 diabetes (E11.65)' )|\n",
    "               (dataset.Diabetes =='DenovoType2 diabetes (E11.65)' )|\n",
    "                 (dataset.Diabetes =='dnovo Type2 diabetes (E11.65)') ] = 'denovo Type2 diabetes' "
   ]
  },
  {
   "cell_type": "code",
   "execution_count": 120,
   "metadata": {},
   "outputs": [
    {
     "name": "stderr",
     "output_type": "stream",
     "text": [
      "H:\\installed_in_edu\\anaconda\\lib\\site-packages\\ipykernel_launcher.py:8: SettingWithCopyWarning: \n",
      "A value is trying to be set on a copy of a slice from a DataFrame\n",
      "\n",
      "See the caveats in the documentation: http://pandas.pydata.org/pandas-docs/stable/indexing.html#indexing-view-versus-copy\n",
      "  \n"
     ]
    }
   ],
   "source": [
    "#generalization category 3\n",
    "dataset.Diabetes[(dataset.Diabetes =='GDM') |\n",
    "                 (dataset.Diabetes =='? GDM') |\n",
    "                 (dataset.Diabetes =='past GDM') |\n",
    "                 (dataset.Diabetes =='GDM (O 24.410)')|\n",
    "                 (dataset.Diabetes =='?Type2 diabetes,GDM')|\n",
    "                 (dataset.Diabetes =='? GDM (O 24.410)')|\n",
    "                 (dataset.Diabetes =='?GDM (O 24.410)')\n",
    "                ] = 'GDM'"
   ]
  },
  {
   "cell_type": "code",
   "execution_count": 121,
   "metadata": {},
   "outputs": [
    {
     "name": "stderr",
     "output_type": "stream",
     "text": [
      "H:\\installed_in_edu\\anaconda\\lib\\site-packages\\ipykernel_launcher.py:9: SettingWithCopyWarning: \n",
      "A value is trying to be set on a copy of a slice from a DataFrame\n",
      "\n",
      "See the caveats in the documentation: http://pandas.pydata.org/pandas-docs/stable/indexing.html#indexing-view-versus-copy\n",
      "  if __name__ == '__main__':\n"
     ]
    }
   ],
   "source": [
    "#generalization category 4\n",
    "dataset.Diabetes[(dataset.Diabetes =='Type1 diabetes') |\n",
    "                 (dataset.Diabetes =='? Type1 diabetes' )|\n",
    "                 (dataset.Diabetes =='Type1 diabetes (E 10.9)') |\n",
    "                 (dataset.Diabetes =='?Type1 diabetes' )| \n",
    "                 (dataset.Diabetes =='R/O Type1 diabetes' )|\n",
    "                 (dataset.Diabetes =='?Type1 diabetes (E 10.9)' )|\n",
    "                 (dataset.Diabetes =='? Type1 diabetes (E 10.9)') |\n",
    "                 (dataset.Diabetes =='Type1B  Diabetes')\n",
    "                ]='Type1 diabetes'"
   ]
  },
  {
   "cell_type": "code",
   "execution_count": 122,
   "metadata": {},
   "outputs": [
    {
     "name": "stderr",
     "output_type": "stream",
     "text": [
      "H:\\installed_in_edu\\anaconda\\lib\\site-packages\\ipykernel_launcher.py:10: SettingWithCopyWarning: \n",
      "A value is trying to be set on a copy of a slice from a DataFrame\n",
      "\n",
      "See the caveats in the documentation: http://pandas.pydata.org/pandas-docs/stable/indexing.html#indexing-view-versus-copy\n",
      "  # Remove the CWD from sys.path while we load stuff.\n"
     ]
    }
   ],
   "source": [
    "#generalization category 5\n",
    "dataset.Diabetes[(dataset.Diabetes =='Pregnant Type2 diabetes') |\n",
    "                 (dataset.Diabetes =='Type2 diabetes complicated pregnancy') |\n",
    "                 (dataset.Diabetes =='Type2 diabetes with pregnancy' )|\n",
    "                 (dataset.Diabetes =='Type2 diabetes complicating pregnancy') |\n",
    "                 (dataset.Diabetes =='pregnancy complicated by Type2 diabetes') |\n",
    "                 (dataset.Diabetes =='Pregnant with Type2 diabetes' )|\n",
    "                 (dataset.Diabetes =='GDM with precious pregnancy' )|\n",
    "                 (dataset.Diabetes =='Prgnant with Type2 diabetes' )|\n",
    "                 (dataset.Diabetes =='Type2 diabetes (E11.65) complicating Pregnancy')\n",
    "                ]='Pregnant Diabetes'"
   ]
  },
  {
   "cell_type": "code",
   "execution_count": 123,
   "metadata": {},
   "outputs": [
    {
     "name": "stderr",
     "output_type": "stream",
     "text": [
      "H:\\installed_in_edu\\anaconda\\lib\\site-packages\\ipykernel_launcher.py:5: SettingWithCopyWarning: \n",
      "A value is trying to be set on a copy of a slice from a DataFrame\n",
      "\n",
      "See the caveats in the documentation: http://pandas.pydata.org/pandas-docs/stable/indexing.html#indexing-view-versus-copy\n",
      "  \"\"\"\n"
     ]
    }
   ],
   "source": [
    "#generalization category 6\n",
    "dataset.Diabetes[(dataset.Diabetes =='MODY --Type2 diabetes') |\n",
    "                 (dataset.Diabetes =='MODYType2 diabetes') |\n",
    "                 (dataset.Diabetes =='?MODY' )|\n",
    "                 (dataset.Diabetes =='? MODY')\n",
    "                ] = 'MODY'"
   ]
  },
  {
   "cell_type": "code",
   "execution_count": 124,
   "metadata": {},
   "outputs": [
    {
     "name": "stderr",
     "output_type": "stream",
     "text": [
      "H:\\installed_in_edu\\anaconda\\lib\\site-packages\\ipykernel_launcher.py:15: SettingWithCopyWarning: \n",
      "A value is trying to be set on a copy of a slice from a DataFrame\n",
      "\n",
      "See the caveats in the documentation: http://pandas.pydata.org/pandas-docs/stable/indexing.html#indexing-view-versus-copy\n",
      "  from ipykernel import kernelapp as app\n"
     ]
    }
   ],
   "source": [
    "#generalization category 7\n",
    "dataset.Diabetes[(dataset.Diabetes =='Pre diabetic') |\n",
    "                 (dataset.Diabetes =='Pre diabetic (R73.03)') |\n",
    "                 (dataset.Diabetes =='Diabetes') |\n",
    "                 (dataset.Diabetes =='Secondary Diabetes' )|\n",
    "                 (dataset.Diabetes =='secondary  diabetes') |\n",
    "                 (dataset.Diabetes =='scondary diabetes' )|\n",
    "                 (dataset.Diabetes =='chronic pancreatitis') |\n",
    "                 (dataset.Diabetes =='?secondary Diabetes' )|\n",
    "                 (dataset.Diabetes =='secondary' )|\n",
    "                 (dataset.Diabetes =='IFG' )|\n",
    "                 (dataset.Diabetes =='pancreatic diabetes')|\n",
    "                   (dataset.Diabetes =='Secondary Diabetes')|\n",
    "                 (dataset.Diabetes =='Pancreatic Diabetes' )|\n",
    "                 (dataset.Diabetes =='Pancriatic diabetes')\n",
    "                ] = 'Diabetes'"
   ]
  },
  {
   "cell_type": "code",
   "execution_count": 125,
   "metadata": {},
   "outputs": [
    {
     "name": "stderr",
     "output_type": "stream",
     "text": [
      "H:\\installed_in_edu\\anaconda\\lib\\site-packages\\ipykernel_launcher.py:6: SettingWithCopyWarning: \n",
      "A value is trying to be set on a copy of a slice from a DataFrame\n",
      "\n",
      "See the caveats in the documentation: http://pandas.pydata.org/pandas-docs/stable/indexing.html#indexing-view-versus-copy\n",
      "  \n"
     ]
    }
   ],
   "source": [
    "#generalization category 8\n",
    "dataset.Diabetes[(dataset.Diabetes == 'Type1 diabetes  de Novo') |\n",
    "                 (dataset.Diabetes == 'Type1 diabetes de Novo') |\n",
    "                  (dataset.Diabetes == 'denovo Type1 diabetes') |\n",
    "                 (dataset.Diabetes == 'denovoType1 diabetes') |\n",
    "                 (dataset.Diabetes == 'MODY')\n",
    "                ] = 'denovo Type1 diabetes'"
   ]
  },
  {
   "cell_type": "code",
   "execution_count": 126,
   "metadata": {},
   "outputs": [],
   "source": [
    "\n",
    "x = dataset.iloc[:,:11]\n",
    "y = dataset.Diabetes\n"
   ]
  },
  {
   "cell_type": "code",
   "execution_count": 127,
   "metadata": {},
   "outputs": [],
   "source": [
    "X_train, X_test, y_train, y_test = train_test_split(x, y, test_size=0.2,random_state=14)"
   ]
  },
  {
   "cell_type": "code",
   "execution_count": 129,
   "metadata": {},
   "outputs": [
    {
     "name": "stdout",
     "output_type": "stream",
     "text": [
      "0.8344204142350383\n"
     ]
    }
   ],
   "source": [
    "\n",
    "#logistic\n",
    "lr = LogisticRegression()\n",
    "lr.fit(X_train,y_train)\n",
    "lrprediction = lr.predict(x)\n",
    "mat1.loc['accuracy','logistic'] = metrics.accuracy_score(y, lrprediction)\n",
    "print(metrics.accuracy_score(y, lrprediction)) #75.5\n"
   ]
  },
  {
   "cell_type": "code",
   "execution_count": 130,
   "metadata": {},
   "outputs": [
    {
     "name": "stdout",
     "output_type": "stream",
     "text": [
      "model fitting done\n",
      "prediction going on\n",
      "[[   2    5    0    5  255    0    0]\n",
      " [   2   12    0    7   94    0    5]\n",
      " [   1    0    0    0    3    0    0]\n",
      " [   0    2    0   45  103    0    0]\n",
      " [   2   14    0    6 4308    0    3]\n",
      " [   0    0    0    8    3    0    0]\n",
      " [   5    0    0    0  351    0    3]]\n",
      "0.8333333333333334\n"
     ]
    }
   ],
   "source": [
    "#knn\n",
    "knn = KNeighborsClassifier(n_neighbors=25)\n",
    "knn.fit(X_train,y_train)\n",
    "print(\"model fitting done\")\n",
    "print(\"prediction going on\")\n",
    "prediction_knn= knn.predict(X_test)\n",
    "print(metrics.confusion_matrix(y_test,prediction_knn))\n",
    "mat1.loc['accuracy','knn'] = metrics.accuracy_score(y_test, prediction_knn)\n",
    "print(metrics.accuracy_score(y_test, prediction_knn))#84% ,\n"
   ]
  },
  {
   "cell_type": "code",
   "execution_count": 131,
   "metadata": {},
   "outputs": [
    {
     "name": "stdout",
     "output_type": "stream",
     "text": [
      "model fitting done\n",
      "prediction going on\n",
      "[[  15    1    0    1  250    0    0]\n",
      " [   1   13    0    3  102    0    1]\n",
      " [   0    0    0    0    4    0    0]\n",
      " [   0    2    0   27  121    0    0]\n",
      " [   0    8    0    1 4322    0    2]\n",
      " [   0    0    0    1    8    2    0]\n",
      " [   0    0    0    1  348    0   10]]\n",
      "0.8369565217391305\n"
     ]
    }
   ],
   "source": [
    "# SVC\n",
    "model =SVC()\n",
    "model.fit(X_train,y_train)\n",
    "print(\"model fitting done\")\n",
    "prediction_svc= model.predict(X_test)\n",
    "print(\"prediction going on\")\n",
    "print(metrics.confusion_matrix(y_test,prediction_svc))\n",
    "mat1.loc['accuracy','SVC'] = metrics.accuracy_score(y_test, prediction_svc)\n",
    "print(metrics.accuracy_score(y_test, prediction_svc)) #83.7 \n"
   ]
  },
  {
   "cell_type": "code",
   "execution_count": 132,
   "metadata": {},
   "outputs": [
    {
     "name": "stdout",
     "output_type": "stream",
     "text": [
      "0.06960335621662853\n"
     ]
    }
   ],
   "source": [
    "#naive Bayes\n",
    "NBC = GaussianNB()\n",
    "NBC.fit(X_train,y_train)\n",
    "y_pred_test = NBC.predict(X_test)\n",
    "mat1.loc['accuracy','Naive Bayes'] = metrics.accuracy_score(y_test,y_pred_test)\n",
    "print(metrics.accuracy_score(y_test,y_pred_test)) #72% , after pulse drop 10.5%\n"
   ]
  },
  {
   "cell_type": "code",
   "execution_count": 133,
   "metadata": {},
   "outputs": [
    {
     "name": "stdout",
     "output_type": "stream",
     "text": [
      "0.8482074752097636\n"
     ]
    }
   ],
   "source": [
    "#decision tree\n",
    "class_tree = DecisionTreeClassifier(min_samples_split=30,min_samples_leaf=10,random_state = 10)\n",
    "class_tree.fit(X_train,y_train)\n",
    "y_pred_test = class_tree.predict(X_test)\n",
    "mat1.loc['accuracy','decision tree'] = metrics.accuracy_score(y_test,y_pred_test)\n",
    "print(metrics.accuracy_score(y_test,y_pred_test)) #85% , after pulse drop 83.9\n",
    "# print(metrics.recall_score(y_pred=y_pred_test,y_true=y_test))\n"
   ]
  },
  {
   "cell_type": "code",
   "execution_count": 135,
   "metadata": {},
   "outputs": [
    {
     "data": {
      "text/plain": [
       "<bound method _AxesBase.grid of <matplotlib.axes._subplots.AxesSubplot object at 0x000001C7FD019BA8>>"
      ]
     },
     "execution_count": 135,
     "metadata": {},
     "output_type": "execute_result"
    },
    {
     "data": {
      "image/png": "[encoded data removed]",
      "text/plain": [
       "<Figure size 576x360 with 1 Axes>"
      ]
     },
     "metadata": {},
     "output_type": "display_data"
    }
   ],
   "source": [
    "fig,ax = plt.subplots(figsize=(8,5))\n",
    "mat1.plot(kind='barh',ax=ax)\n",
    "ax.grid"
   ]
  },
  {
   "cell_type": "code",
   "execution_count": null,
   "metadata": {},
   "outputs": [],
   "source": []
  },
  {
   "cell_type": "code",
   "execution_count": 136,
   "metadata": {},
   "outputs": [
    {
     "data": {
      "text/plain": [
       "array(['Diabetes', 'GDM', 'Type1 diabetes', 'Type2 diabetes'],\n",
       "      dtype=object)"
      ]
     },
     "execution_count": 136,
     "metadata": {},
     "output_type": "execute_result"
    }
   ],
   "source": [
    "np.unique(lrprediction)"
   ]
  },
  {
   "cell_type": "code",
   "execution_count": null,
   "metadata": {},
   "outputs": [],
   "source": []
  },
  {
   "cell_type": "code",
   "execution_count": 137,
   "metadata": {},
   "outputs": [],
   "source": [
    "#covariance , normalization , hip weight ratio , graphs , multi category classifer like svm\n",
    "\n",
    "#have to try with svm , ann , random forest  then app\n",
    "# https://www.ncbi.nlm.nih.gov/pmc/articles/PMC3121190/\n",
    "#same watch for visualization as well\n",
    "\n",
    "#first do exception andling"
   ]
  },
  {
   "cell_type": "code",
   "execution_count": 138,
   "metadata": {},
   "outputs": [
    {
     "name": "stdout",
     "output_type": "stream",
     "text": [
      "['Age', 'Gender', 'WEIGHT', 'HEIGHT', 'BP', 'BMI', 'FBS', 'PPBS', 'HBa1c', 'TSH', 'S.Creat', 'Diabetes']\n"
     ]
    }
   ],
   "source": [
    "print(list(dataset))"
   ]
  },
  {
   "cell_type": "code",
   "execution_count": 139,
   "metadata": {},
   "outputs": [
    {
     "name": "stdout",
     "output_type": "stream",
     "text": [
      "6702.0\n"
     ]
    },
    {
     "data": {
      "text/plain": [
       "1.7"
      ]
     },
     "execution_count": 139,
     "metadata": {},
     "output_type": "execute_result"
    }
   ],
   "source": [
    "print(dataset.WEIGHT.max())\n",
    "dataset.WEIGHT.min()"
   ]
  },
  {
   "cell_type": "code",
   "execution_count": 140,
   "metadata": {},
   "outputs": [
    {
     "data": {
      "text/plain": [
       "(26217, 12)"
      ]
     },
     "execution_count": 140,
     "metadata": {},
     "output_type": "execute_result"
    }
   ],
   "source": [
    "dataset.shape"
   ]
  },
  {
   "cell_type": "code",
   "execution_count": 141,
   "metadata": {},
   "outputs": [],
   "source": [
    "dataset = dataset[dataset.WEIGHT<=200]"
   ]
  },
  {
   "cell_type": "code",
   "execution_count": 142,
   "metadata": {},
   "outputs": [
    {
     "name": "stdout",
     "output_type": "stream",
     "text": [
      "194.0\n",
      "0.9\n"
     ]
    }
   ],
   "source": [
    "print(dataset.HEIGHT.max())\n",
    "print(dataset.HEIGHT.min())"
   ]
  },
  {
   "cell_type": "code",
   "execution_count": 143,
   "metadata": {},
   "outputs": [
    {
     "name": "stdout",
     "output_type": "stream",
     "text": [
      "3106\n",
      "0\n"
     ]
    }
   ],
   "source": [
    "print(dataset.BP.max())\n",
    "print(dataset.BP.min())"
   ]
  },
  {
   "cell_type": "code",
   "execution_count": 144,
   "metadata": {},
   "outputs": [
    {
     "name": "stdout",
     "output_type": "stream",
     "text": [
      "216.0\n",
      "0.07\n",
      "[1.1000e+00 9.0000e-01 1.3000e+00 1.0000e+00 7.0000e-01 1.2000e+00\n",
      " 5.0000e-01 8.0000e-01 3.3000e+00 2.7000e+00 2.9000e+00 2.4000e+00\n",
      " 1.6000e+00 1.5000e+00 6.0000e-01 1.2200e+00 9.2000e-01 2.2000e+00\n",
      " 6.6000e-01 8.1000e-01 1.8000e+00 1.0100e+00 8.9000e-01 2.1000e+00\n",
      " 9.5000e-01 3.0000e+00 2.4000e+01 1.4000e+00 2.0000e+00 1.6700e+00\n",
      " 1.7000e+00 9.3000e-01 2.6000e+00 7.7000e-01 6.7000e-01 8.4000e-01\n",
      " 5.8000e-01 6.9000e-01 5.3000e-01 1.0700e+00 4.0000e+00 9.5000e+01\n",
      " 5.5000e-01 1.2100e+00 6.5000e-01 3.5000e+00 7.0000e+00 1.0200e+02\n",
      " 9.9000e-01 7.1000e-01 7.8000e-01 9.7000e-01 1.2800e+00 1.1400e+00\n",
      " 1.0900e+00 6.4000e-01 5.7000e-01 7.9000e-01 4.6000e-01 4.0000e-01\n",
      " 3.6000e+00 3.0000e-01 3.1000e+00 2.3000e+00 1.0000e-01 1.1700e+00\n",
      " 1.3800e+00 5.6000e-01 6.1000e-01 1.0200e+00 1.0500e+00 1.4900e+02\n",
      " 6.2000e-01 1.1900e+00 8.7000e-01 8.6000e-01 4.8000e+00 1.9000e+00\n",
      " 8.0000e+00 4.4000e+00 1.0400e+00 8.2000e-01 1.3400e+00 8.5000e-01\n",
      " 8.3000e-01 1.2400e+00 8.0000e+01 1.1200e+00 8.2700e-01 4.5000e+00\n",
      " 1.1300e+00 1.1800e+00 8.8000e-01 5.2000e-01 9.1000e-01 1.2300e+00\n",
      " 1.4940e+01 5.1800e+01 8.8000e+00 1.4700e+00 9.2000e+01 4.6900e+00\n",
      " 5.4000e+00 6.8000e-01 1.0600e+00 1.0198e+00 1.0300e+00 3.2700e+00\n",
      " 6.0000e+00 7.0000e-02 7.4000e-01 9.0000e+00 3.9000e-01 3.7000e+00\n",
      " 1.3700e+00 7.6000e-01 1.7700e+02 4.2000e+00 1.8300e+00 1.6500e+00\n",
      " 1.1600e+00 5.3000e+00 1.7200e+00 1.5700e+02 2.8000e+00 4.2000e+01\n",
      " 3.2500e+00 9.3200e+00 2.5000e+00 3.1800e+01 3.7600e+00 3.8000e+01\n",
      " 7.2000e-01 7.2300e-01 5.1000e-01 6.7000e+01 2.5000e-01 3.5000e-01\n",
      " 2.8800e+00 3.4000e+00 2.5300e+00 2.3600e+00 2.3800e+00 1.7800e+00\n",
      " 9.6000e-01 2.5200e+00 7.5000e-01 5.9000e-01 1.0800e+00 5.4000e-01\n",
      " 1.2500e+00 4.2500e+00 5.3200e+00 1.5700e+00 2.2700e+00 1.2700e+00\n",
      " 1.4400e+00 6.3000e-01 1.4300e+00 1.2900e+00 2.0800e+00 3.2000e+00\n",
      " 1.8900e+00 1.5400e+00 1.1500e+00 5.7800e-01 7.2000e+01 8.8000e+01\n",
      " 1.2200e+02 1.5600e+02 1.9200e+02 2.0400e+00 2.4200e+00 2.1600e+02\n",
      " 9.4000e-01 1.6400e+02 6.2000e+00 1.5500e+00 3.8400e+00 1.3200e+00]\n"
     ]
    }
   ],
   "source": [
    "print(dataset['S.Creat'].max())\n",
    "print(dataset['S.Creat'].min())\n",
    "print(dataset['S.Creat'].unique())"
   ]
  },
  {
   "cell_type": "code",
   "execution_count": 145,
   "metadata": {},
   "outputs": [],
   "source": [
    "# dataset.to_csv(\"60k_preprocess_by_final_preprocess.csv\")"
   ]
  },
  {
   "cell_type": "code",
   "execution_count": 146,
   "metadata": {},
   "outputs": [
    {
     "name": "stdout",
     "output_type": "stream",
     "text": [
      "(26207, 12)\n",
      "(26176, 12)\n"
     ]
    }
   ],
   "source": [
    "#screat outliers handling\n",
    "print(dataset.shape) \n",
    "dataset = dataset[dataset['S.Creat']<10]\n",
    "print(dataset.shape)"
   ]
  },
  {
   "cell_type": "code",
   "execution_count": 147,
   "metadata": {},
   "outputs": [
    {
     "name": "stderr",
     "output_type": "stream",
     "text": [
      "H:\\installed_in_edu\\anaconda\\lib\\site-packages\\pandas\\core\\generic.py:4401: SettingWithCopyWarning: \n",
      "A value is trying to be set on a copy of a slice from a DataFrame\n",
      "\n",
      "See the caveats in the documentation: http://pandas.pydata.org/pandas-docs/stable/indexing.html#indexing-view-versus-copy\n",
      "  self[name] = value\n"
     ]
    },
    {
     "name": "stdout",
     "output_type": "stream",
     "text": [
      "0\n",
      "10000\n",
      "20000\n"
     ]
    }
   ],
   "source": [
    " # preprocess outlier value in BMI\n",
    "for i in range(dataset.shape[0]):\n",
    "    if dataset['BMI'].iloc[i]==0.003111111111111111:\n",
    "        if(dataset['Gender'].iloc[i] == 0):\n",
    "            dataset.iloc[i].BMI = 26.6\n",
    "        else:\n",
    "            dataset.iloc[i].BMI = 26.5\n",
    "    if(i%10000 == 0 ):\n",
    "        print(i)"
   ]
  },
  {
   "cell_type": "code",
   "execution_count": 148,
   "metadata": {},
   "outputs": [
    {
     "name": "stdout",
     "output_type": "stream",
     "text": [
      "['Age', 'Gender', 'WEIGHT', 'HEIGHT', 'BP', 'BMI', 'FBS', 'PPBS', 'HBa1c', 'TSH', 'S.Creat', 'Diabetes']\n"
     ]
    }
   ],
   "source": [
    "print(list(dataset))"
   ]
  },
  {
   "cell_type": "code",
   "execution_count": 149,
   "metadata": {},
   "outputs": [],
   "source": [
    "# dataset.to_csv(\"60k_preprocess_by_final_preprocess_part2.csv\")"
   ]
  },
  {
   "cell_type": "code",
   "execution_count": 150,
   "metadata": {},
   "outputs": [],
   "source": [
    "x = dataset.iloc[:,:11]\n",
    "y = dataset.Diabetes\n",
    "X_train, X_test, y_train, y_test = train_test_split(x, y, test_size=0.2)"
   ]
  },
  {
   "cell_type": "code",
   "execution_count": 151,
   "metadata": {},
   "outputs": [],
   "source": [
    "#decision tree classification\n",
    "\n",
    "class_tree = DecisionTreeClassifier(min_samples_split=30,min_samples_leaf=10,random_state = 14)\n",
    "\n"
   ]
  },
  {
   "cell_type": "code",
   "execution_count": 152,
   "metadata": {},
   "outputs": [
    {
     "name": "stdout",
     "output_type": "stream",
     "text": [
      "logistic reg accuracy is :  0.8267114914425427\n",
      "model fitting done\n",
      "prediction going on\n",
      "[[   5    4    0    1  275    0    0]\n",
      " [   1    8    0    5   92    0    0]\n",
      " [   0    0    0    0    5    0    0]\n",
      " [   0    6    0   57   63    0    1]\n",
      " [   7    4    0    3 4355    0    3]\n",
      " [   0    0    0    6    2    0    0]\n",
      " [   4    2    0    1  324    0    2]]\n",
      "knn accuracy is :  0.845492742551566\n",
      "model fitting done\n",
      "prediction going on\n",
      "[[  15    0    0    0  270    0    0]\n",
      " [   0    8    0    2   96    0    0]\n",
      " [   0    0    0    0    5    0    0]\n",
      " [   0    3    0   32   92    0    0]\n",
      " [   0    3    0    4 4360    0    5]\n",
      " [   0    0    0    1    7    0    0]\n",
      " [   0    0    0    2  324    0    7]]\n",
      "SVC accuracy is :  0.8445378151260504\n",
      "naive bayes accuracy is :  0.06665393430099313\n",
      "decision tree accuracy is :  0.8535141329258976\n"
     ]
    }
   ],
   "source": [
    "#logistic\n",
    "lr = LogisticRegression()\n",
    "lr.fit(X_train,y_train)\n",
    "lrprediction = lr.predict(x)\n",
    "mat1.loc['accuracy','logistic'] = metrics.accuracy_score(y, lrprediction)\n",
    "print('logistic reg accuracy is : ',metrics.accuracy_score(y, lrprediction)) #75.5\n",
    "\n",
    "#knn\n",
    "knn = KNeighborsClassifier(n_neighbors=25)\n",
    "knn.fit(X_train,y_train)\n",
    "print(\"model fitting done\")\n",
    "print(\"prediction going on\")\n",
    "prediction_knn= knn.predict(X_test)\n",
    "print(metrics.confusion_matrix(y_test,prediction_knn))\n",
    "mat1.loc['accuracy','knn'] = metrics.accuracy_score(y_test, prediction_knn)\n",
    "print('knn accuracy is : ',metrics.accuracy_score(y_test, prediction_knn))#84% ,\n",
    "\n",
    "\n",
    "# SVC\n",
    "model =SVC()\n",
    "model.fit(X_train,y_train)\n",
    "print(\"model fitting done\")\n",
    "prediction_svc= model.predict(X_test)\n",
    "print(\"prediction going on\")\n",
    "print(metrics.confusion_matrix(y_test,prediction_svc))\n",
    "mat1.loc['accuracy','SVC'] = metrics.accuracy_score(y_test, prediction_svc)\n",
    "print('SVC accuracy is : ',metrics.accuracy_score(y_test, prediction_svc)) #83.7 \n",
    "\n",
    "\n",
    "#naive Bayes\n",
    "NBC = GaussianNB()\n",
    "NBC.fit(X_train,y_train)\n",
    "y_pred_test = NBC.predict(X_test)\n",
    "mat1.loc['accuracy','Naive Bayes'] = metrics.accuracy_score(y_test,y_pred_test)\n",
    "print('naive bayes accuracy is : ',metrics.accuracy_score(y_test,y_pred_test)) #72% , after pulse drop 10.5%\n",
    "\n",
    "#decision tree\n",
    "class_tree = DecisionTreeClassifier(min_samples_split=30,min_samples_leaf=10,random_state = 10)\n",
    "class_tree.fit(X_train,y_train)\n",
    "y_pred_test = class_tree.predict(X_test)\n",
    "mat1.loc['accuracy','decision tree'] = metrics.accuracy_score(y_test,y_pred_test)\n",
    "print('decision tree accuracy is : ',metrics.accuracy_score(y_test,y_pred_test)) #85% , after pulse drop 83.9\n",
    "# print(metrics.recall_score(y_pred=y_pred_test,y_true=y_test))\n"
   ]
  },
  {
   "cell_type": "code",
   "execution_count": 153,
   "metadata": {},
   "outputs": [
    {
     "data": {
      "text/plain": [
       "<bound method _AxesBase.grid of <matplotlib.axes._subplots.AxesSubplot object at 0x000001C7FF0EB240>>"
      ]
     },
     "execution_count": 153,
     "metadata": {},
     "output_type": "execute_result"
    },
    {
     "data": {
      "image/png": "[encoded data removed]",
      "text/plain": [
       "<Figure size 576x360 with 1 Axes>"
      ]
     },
     "metadata": {},
     "output_type": "display_data"
    }
   ],
   "source": [
    "fig,ax = plt.subplots(figsize=(8,5))\n",
    "mat1.plot(kind='barh',ax=ax)\n",
    "ax.grid\n"
   ]
  },
  {
   "cell_type": "code",
   "execution_count": 154,
   "metadata": {},
   "outputs": [
    {
     "data": {
      "text/plain": [
       "array(['Diabetes', 'GDM', 'Type1 diabetes', 'Type2 diabetes',\n",
       "       'denovo Type1 diabetes', 'denovo Type2 diabetes'], dtype=object)"
      ]
     },
     "execution_count": 154,
     "metadata": {},
     "output_type": "execute_result"
    }
   ],
   "source": [
    "np.unique(y_pred_test)"
   ]
  },
  {
   "cell_type": "code",
   "execution_count": 155,
   "metadata": {},
   "outputs": [
    {
     "data": {
      "text/plain": [
       "(4372,)"
      ]
     },
     "execution_count": 155,
     "metadata": {},
     "output_type": "execute_result"
    }
   ],
   "source": [
    "X_test.iloc[500].values.reshape(1,11)\n",
    "class_tree.predict([[4.60000000e+01, 1.00000000e+00, 7.00000000e+01, 1.50000000e+02,\n",
    "        0.00000000e+00, 3.11111111e-03, 1.44070074e+02, 2.20384035e+02,\n",
    "        8.20000000e+00, 1.56000000e+00, 8.00000000e-01]])\n",
    "y_test[y_test == 'Type2 diabetes'].shape"
   ]
  },
  {
   "cell_type": "code",
   "execution_count": 156,
   "metadata": {},
   "outputs": [],
   "source": [
    "# save the model to disk\n",
    "# filename = 'class_tree_model.sav'\n",
    "# file1 = 'class_tree.pkl'\n",
    "# pickle.dump(class_tree, open(file1, 'wb'))\n",
    "# #load\n",
    "# loaded_model = pickle.load(open(filename, 'rb'))\n",
    "# y_pred_test = loaded_model.predict(X_test)\n",
    "# print(metrics.accuracy_score(y_test,y_pred_test)) #85.1%"
   ]
  }
 ],
 "metadata": {
  "kernelspec": {
   "display_name": "Python 3",
   "language": "python",
   "name": "python3"
  },
  "language_info": {
   "codemirror_mode": {
    "name": "ipython",
    "version": 3
   },
   "file_extension": ".py",
   "mimetype": "text/x-python",
   "name": "python",
   "nbconvert_exporter": "python",
   "pygments_lexer": "ipython3",
   "version": "3.6.5"
  }
 },
 "nbformat": 4,
 "nbformat_minor": 2
}
